{
  "nbformat": 4,
  "nbformat_minor": 0,
  "metadata": {
    "colab": {
      "name": "1일차.ipynb",
      "provenance": [],
      "collapsed_sections": [],
      "authorship_tag": "ABX9TyPuL5Z5VDg0zeAQ2VcOJtrr",
      "include_colab_link": true
    },
    "kernelspec": {
      "name": "python3",
      "display_name": "Python 3"
    }
  },
  "cells": [
    {
      "cell_type": "markdown",
      "metadata": {
        "id": "view-in-github",
        "colab_type": "text"
      },
      "source": [
        "<a href=\"https://colab.research.google.com/github/gasd238/2020_GSM_Winter_Camp/blob/master/code/1%EC%9D%BC%EC%B0%A8.ipynb\" target=\"_parent\"><img src=\"https://colab.research.google.com/assets/colab-badge.svg\" alt=\"Open In Colab\"/></a>"
      ]
    },
    {
      "cell_type": "code",
      "metadata": {
        "id": "DuTGilVhcEvA",
        "colab_type": "code",
        "outputId": "0be80c2e-ba78-4885-d5a1-75e3ea9122ed",
        "colab": {
          "base_uri": "https://localhost:8080/",
          "height": 55
        }
      },
      "source": [
        "a = int(input('임의의 정수 입력: '))\n",
        "print(a+20)"
      ],
      "execution_count": 0,
      "outputs": [
        {
          "output_type": "stream",
          "text": [
            "임의의 정수 입력: 64656\n",
            "64676\n"
          ],
          "name": "stdout"
        }
      ]
    },
    {
      "cell_type": "code",
      "metadata": {
        "id": "o3qAEVUYhUp1",
        "colab_type": "code",
        "outputId": "98954e7d-3d6a-4d68-b03b-ee1086f34a22",
        "colab": {
          "base_uri": "https://localhost:8080/",
          "height": 36
        }
      },
      "source": [
        "a = 10\n",
        "b = 20\n",
        "\n",
        "print('result:%s' % (a < b)) # > , <, >=, <=, ==, !="
      ],
      "execution_count": 0,
      "outputs": [
        {
          "output_type": "stream",
          "text": [
            "result:True\n"
          ],
          "name": "stdout"
        }
      ]
    },
    {
      "cell_type": "code",
      "metadata": {
        "id": "HmrrN0Idmmgn",
        "colab_type": "code",
        "outputId": "4aa34792-e36f-495c-b724-041ecdf51f8c",
        "colab": {
          "base_uri": "https://localhost:8080/",
          "height": 55
        }
      },
      "source": [
        "a = int(input('임의의 정수: '))\n",
        "\n",
        "if a % 2 == 0:\n",
        "  print('짝수')\n",
        "else:\n",
        "  print('홀수')\n"
      ],
      "execution_count": 0,
      "outputs": [
        {
          "output_type": "stream",
          "text": [
            "임의의 정수: 15\n",
            "홀수\n"
          ],
          "name": "stdout"
        }
      ]
    },
    {
      "cell_type": "code",
      "metadata": {
        "id": "1Cz1_nY1poNf",
        "colab_type": "code",
        "outputId": "67d1e984-0317-4780-a16d-6d71773ec034",
        "colab": {
          "base_uri": "https://localhost:8080/",
          "height": 55
        }
      },
      "source": [
        "a = int(input('임의의 점수: '))\n",
        "\n",
        "if a >= 90:\n",
        "  print('A')\n",
        "elif a >= 80:\n",
        "  print('B')\n",
        "elif a >= 70:\n",
        "  print('C')\n",
        "elif a >= 60:\n",
        "  print('D')\n",
        "else:\n",
        "  print('E')"
      ],
      "execution_count": 0,
      "outputs": [
        {
          "output_type": "stream",
          "text": [
            "임의의 점수: 61\n",
            "D\n"
          ],
          "name": "stdout"
        }
      ]
    },
    {
      "cell_type": "code",
      "metadata": {
        "id": "s-bDtkwasFeJ",
        "colab_type": "code",
        "outputId": "e26131dc-ede8-4bf7-b2e9-5671723921ce",
        "colab": {
          "base_uri": "https://localhost:8080/",
          "height": 206
        }
      },
      "source": [
        "for i in range(10):\n",
        "  print('hello')"
      ],
      "execution_count": 0,
      "outputs": [
        {
          "output_type": "stream",
          "text": [
            "hello\n",
            "hello\n",
            "hello\n",
            "hello\n",
            "hello\n",
            "hello\n",
            "hello\n",
            "hello\n",
            "hello\n",
            "hello\n"
          ],
          "name": "stdout"
        }
      ]
    },
    {
      "cell_type": "code",
      "metadata": {
        "id": "qKTZD133s2Aq",
        "colab_type": "code",
        "outputId": "5135ee4f-bd8e-4570-eb5c-fa106f861afe",
        "colab": {
          "base_uri": "https://localhost:8080/",
          "height": 111
        }
      },
      "source": [
        "for i in range(0, 10, 2):\n",
        "  print(i)"
      ],
      "execution_count": 0,
      "outputs": [
        {
          "output_type": "stream",
          "text": [
            "0\n",
            "2\n",
            "4\n",
            "6\n",
            "8\n"
          ],
          "name": "stdout"
        }
      ]
    },
    {
      "cell_type": "code",
      "metadata": {
        "id": "2JZouBcJtG01",
        "colab_type": "code",
        "outputId": "ee4c19d6-3d5d-449c-8768-b42ff9438dad",
        "colab": {
          "base_uri": "https://localhost:8080/",
          "height": 111
        }
      },
      "source": [
        "for i in [10, 20, 30, 40, 50]:\n",
        "  print(i)"
      ],
      "execution_count": 0,
      "outputs": [
        {
          "output_type": "stream",
          "text": [
            "10\n",
            "20\n",
            "30\n",
            "40\n",
            "50\n"
          ],
          "name": "stdout"
        }
      ]
    },
    {
      "cell_type": "code",
      "metadata": {
        "id": "ewgnr6xgtary",
        "colab_type": "code",
        "outputId": "55d6c2eb-4af5-4052-9dfc-d15360dc8743",
        "colab": {
          "base_uri": "https://localhost:8080/",
          "height": 36
        }
      },
      "source": [
        "for i in ['apple', 'orange', 'grape', 'berry']:\n",
        "  print(i, end=' ')"
      ],
      "execution_count": 0,
      "outputs": [
        {
          "output_type": "stream",
          "text": [
            "apple orange grape berry "
          ],
          "name": "stdout"
        }
      ]
    },
    {
      "cell_type": "code",
      "metadata": {
        "id": "6GGTK2Frt9AQ",
        "colab_type": "code",
        "outputId": "5730a44e-76bd-4748-d8be-bf592e685f58",
        "colab": {
          "base_uri": "https://localhost:8080/",
          "height": 36
        }
      },
      "source": [
        "sum = 0\n",
        "for i in range(1, 11):\n",
        "  sum+=i\n",
        "print(sum)"
      ],
      "execution_count": 0,
      "outputs": [
        {
          "output_type": "stream",
          "text": [
            "55\n"
          ],
          "name": "stdout"
        }
      ]
    },
    {
      "cell_type": "code",
      "metadata": {
        "id": "PtU_GcaFvNl1",
        "colab_type": "code",
        "outputId": "6d35eb7a-81c8-428e-a51b-f74471714b53",
        "colab": {
          "base_uri": "https://localhost:8080/",
          "height": 36
        }
      },
      "source": [
        "i = 0\n",
        "\n",
        "while i<=10:\n",
        "  sum + i\n",
        "  i+=1\n",
        "\n",
        "print(sum) "
      ],
      "execution_count": 0,
      "outputs": [
        {
          "output_type": "stream",
          "text": [
            "55\n"
          ],
          "name": "stdout"
        }
      ]
    },
    {
      "cell_type": "code",
      "metadata": {
        "id": "okgRkOQ6w-Q8",
        "colab_type": "code",
        "outputId": "515a83df-553b-4d99-c87a-e57a06b85865",
        "colab": {
          "base_uri": "https://localhost:8080/",
          "height": 36
        }
      },
      "source": [
        "a = [ 10, 20, 30, 40, 50 ]\n",
        "\n",
        "for i in range(len(a)):\n",
        "  print(a[i], end=' ')"
      ],
      "execution_count": 0,
      "outputs": [
        {
          "output_type": "stream",
          "text": [
            "10 20 30 40 50 "
          ],
          "name": "stdout"
        }
      ]
    },
    {
      "cell_type": "code",
      "metadata": {
        "id": "6-UDd0NQ2eCP",
        "colab_type": "code",
        "colab": {}
      },
      "source": [
        "a=[]\n",
        "a.appned(30)\n",
        "a.append(70)\n",
        "print(a)"
      ],
      "execution_count": 0,
      "outputs": []
    },
    {
      "cell_type": "code",
      "metadata": {
        "id": "cO18n_W72h5Q",
        "colab_type": "code",
        "outputId": "246bcfdc-d955-4574-87b4-974c441c793c",
        "colab": {
          "base_uri": "https://localhost:8080/",
          "height": 130
        }
      },
      "source": [
        "a = []\n",
        "for i in range(5):\n",
        "  a.append(int(input('정수 입력: ')))\n",
        "\n",
        "print(a)"
      ],
      "execution_count": 0,
      "outputs": [
        {
          "output_type": "stream",
          "text": [
            "정수 입력: 10\n",
            "정수 입력: 20\n",
            "정수 입력: 30\n",
            "정수 입력: 40\n",
            "정수 입력: 50\n",
            "[10, 20, 30, 40, 50]\n"
          ],
          "name": "stdout"
        }
      ]
    },
    {
      "cell_type": "code",
      "metadata": {
        "id": "IG7MMGea3cx_",
        "colab_type": "code",
        "outputId": "69b1e2b2-684f-4f3f-f682-93e9f5daa5e0",
        "colab": {
          "base_uri": "https://localhost:8080/",
          "height": 55
        }
      },
      "source": [
        "a = [[10, 20, 30], [40, 50, 60]]\n",
        "for i in range(2):\n",
        "  for j in range(3):\n",
        "    print(a[i][j], end=' ')\n",
        "  print()"
      ],
      "execution_count": 0,
      "outputs": [
        {
          "output_type": "stream",
          "text": [
            "10 20 30 \n",
            "40 50 60 \n"
          ],
          "name": "stdout"
        }
      ]
    },
    {
      "cell_type": "code",
      "metadata": {
        "id": "J4lK65Wa47_j",
        "colab_type": "code",
        "outputId": "14e1772f-fa5e-412f-af77-bc3e4d46d908",
        "colab": {
          "base_uri": "https://localhost:8080/",
          "height": 55
        }
      },
      "source": [
        "a = [[10, 20, 30], [40, 50, 60]]\n",
        "for i in range(len(a)):\n",
        "  sum = 0\n",
        "  for j in range(len(a[i])):\n",
        "    sum+=a[i][j]\n",
        "    \n",
        "  a[i].append(sum)\n",
        "\n",
        "for i in range(len(a)):\n",
        "  for j in range(len(a[i])):\n",
        "    print(a[i][j], end=' ')\n",
        "  print()\n"
      ],
      "execution_count": 0,
      "outputs": [
        {
          "output_type": "stream",
          "text": [
            "10 20 30 60 \n",
            "40 50 60 150 \n"
          ],
          "name": "stdout"
        }
      ]
    },
    {
      "cell_type": "code",
      "metadata": {
        "id": "ANbKh6iA7BK0",
        "colab_type": "code",
        "outputId": "044431ae-8543-4176-fccb-203030273221",
        "colab": {
          "base_uri": "https://localhost:8080/",
          "height": 130
        }
      },
      "source": [
        "import random\n",
        "\n",
        "for i in range(6):\n",
        "  print(random.randrange(1, 46))"
      ],
      "execution_count": 0,
      "outputs": [
        {
          "output_type": "stream",
          "text": [
            "42\n",
            "1\n",
            "4\n",
            "45\n",
            "17\n",
            "2\n"
          ],
          "name": "stdout"
        }
      ]
    },
    {
      "cell_type": "code",
      "metadata": {
        "id": "4EPuYAf67lz3",
        "colab_type": "code",
        "outputId": "c9ece97e-88ef-4333-c914-180079165599",
        "colab": {
          "base_uri": "https://localhost:8080/",
          "height": 36
        }
      },
      "source": [
        "a = []\n",
        "while len(a) < 6:\n",
        "  a.append(random.randrange(1, 46))\n",
        "  a = list(set(a)) #set 에서 중복 안된다는걸 이용한 중복 제거\n",
        "a.sort()\n",
        "print(a)"
      ],
      "execution_count": 0,
      "outputs": [
        {
          "output_type": "stream",
          "text": [
            "[7, 13, 14, 16, 29, 40]\n"
          ],
          "name": "stdout"
        }
      ]
    },
    {
      "cell_type": "code",
      "metadata": {
        "id": "j6kEkrxn9JrV",
        "colab_type": "code",
        "outputId": "d4b8ad0b-29b1-4b8c-c3de-197d292d7565",
        "colab": {
          "base_uri": "https://localhost:8080/",
          "height": 74
        }
      },
      "source": [
        "name = input('이름을 입력해주세요 : ')\n",
        "a = input(\"주민번호를 입력해주세요 (예: 123456-7890123): \")\n",
        "a = a.split('-')\n",
        "\n",
        "if a[1][0] == '1' or a[1][0] == '3':\n",
        "  print('남성')\n",
        "elif a[1][0] == '2' or a[1][0] == '4':\n",
        "  print('여성')\n",
        "else:\n",
        "  print('똑바로 입력해라')"
      ],
      "execution_count": 0,
      "outputs": [
        {
          "output_type": "stream",
          "text": [
            "이름을 입력해주세요 : 123456-3456798\n",
            "주민번호를 입력해주세요(123456-7890123): 123456-3456798\n",
            "남성\n"
          ],
          "name": "stdout"
        }
      ]
    },
    {
      "cell_type": "code",
      "metadata": {
        "id": "Dr5W6SHjEoH6",
        "colab_type": "code",
        "outputId": "7cad1e10-4fc7-4202-d7e5-560a09a0f826",
        "colab": {
          "base_uri": "https://localhost:8080/",
          "height": 36
        }
      },
      "source": [
        "def test():\n",
        "  print('Hello')\n",
        "\n",
        "test()"
      ],
      "execution_count": 0,
      "outputs": [
        {
          "output_type": "stream",
          "text": [
            "Hello\n"
          ],
          "name": "stdout"
        }
      ]
    },
    {
      "cell_type": "code",
      "metadata": {
        "id": "O2o7u-tFFW_S",
        "colab_type": "code",
        "outputId": "42de7508-e852-4ea5-808c-84e70baf9c4e",
        "colab": {
          "base_uri": "https://localhost:8080/",
          "height": 36
        }
      },
      "source": [
        "def test(a):\n",
        "  return a+20\n",
        "\n",
        "v = test(10)\n",
        "print(v)"
      ],
      "execution_count": 0,
      "outputs": [
        {
          "output_type": "stream",
          "text": [
            "30\n"
          ],
          "name": "stdout"
        }
      ]
    },
    {
      "cell_type": "code",
      "metadata": {
        "id": "TL3TDiayFwg3",
        "colab_type": "code",
        "outputId": "4093409a-0ce4-4e47-a5eb-2b56e7956fc4",
        "colab": {
          "base_uri": "https://localhost:8080/",
          "height": 36
        }
      },
      "source": [
        "def test(a):\n",
        "  sum = 0\n",
        "  for i in a:\n",
        "    sum+=i\n",
        "  return sum\n",
        "b = [10, 20, 30, 40, 50]\n",
        "v = test(b)\n",
        "print(v)"
      ],
      "execution_count": 0,
      "outputs": [
        {
          "output_type": "stream",
          "text": [
            "150\n"
          ],
          "name": "stdout"
        }
      ]
    },
    {
      "cell_type": "code",
      "metadata": {
        "id": "F567uSgYH0i9",
        "colab_type": "code",
        "outputId": "0169048c-170b-4af6-daec-c3fffbc35e7c",
        "colab": {
          "base_uri": "https://localhost:8080/",
          "height": 658
        }
      },
      "source": [
        "a = [0, 0, 0, 0, 0, 0, 0, 0, 0, 0]\n",
        "\n",
        "def print_seat(a):\n",
        "  print('\\t\\t[[좌석 현황]]')\n",
        "  print('================================================')\n",
        "  print('\\t', end='')\n",
        "\n",
        "  for i in range(1, 11):\n",
        "    print(i, end='  ')\n",
        "\n",
        "  print()\n",
        "  print('================================================')\n",
        "  print('\\t', end='')\n",
        "\n",
        "  for i in a:\n",
        "    print(i, end='  ')\n",
        "    \n",
        "  print()\n",
        "  print()\n",
        "\n",
        "\n",
        "while True:\n",
        "  print_seat(a)\n",
        "\n",
        "  b = int(input('좌석 번호 선택: '))\n",
        "  a[b-1] = 1\n",
        "  print('\"좌석을 예약했습니다.\"')\n",
        "  print()\n",
        "  print_seat(a)\n",
        "  \n",
        "  c = input(\"계속 하시겠습니까?(y/n)\")\n",
        "  print()\n",
        "\n",
        "  if c == 'y':\n",
        "    continue\n",
        "  else:\n",
        "    break\n",
        "\n",
        "\n"
      ],
      "execution_count": 0,
      "outputs": [
        {
          "output_type": "stream",
          "text": [
            "\t\t[[좌석 현황]]\n",
            "================================================\n",
            "\t1  2  3  4  5  6  7  8  9  10  \n",
            "================================================\n",
            "\t0  0  0  0  0  0  0  0  0  0  \n",
            "\n",
            "좌석 번호 선택: 1\n",
            "\"좌석을 예약했습니다.\"\n",
            "\n",
            "\t\t[[좌석 현황]]\n",
            "================================================\n",
            "\t1  2  3  4  5  6  7  8  9  10  \n",
            "================================================\n",
            "\t1  0  0  0  0  0  0  0  0  0  \n",
            "\n",
            "계속 하시겠습니까?(y/n)y\n",
            "\n",
            "\t\t[[좌석 현황]]\n",
            "================================================\n",
            "\t1  2  3  4  5  6  7  8  9  10  \n",
            "================================================\n",
            "\t1  0  0  0  0  0  0  0  0  0  \n",
            "\n",
            "좌석 번호 선택: 5\n",
            "\"좌석을 예약했습니다.\"\n",
            "\n",
            "\t\t[[좌석 현황]]\n",
            "================================================\n",
            "\t1  2  3  4  5  6  7  8  9  10  \n",
            "================================================\n",
            "\t1  0  0  0  1  0  0  0  0  0  \n",
            "\n",
            "계속 하시겠습니까?(y/n)n\n",
            "\n"
          ],
          "name": "stdout"
        }
      ]
    },
    {
      "cell_type": "code",
      "metadata": {
        "id": "s1V-lR0Sk4XP",
        "colab_type": "code",
        "colab": {
          "base_uri": "https://localhost:8080/",
          "height": 692
        },
        "outputId": "d4d19824-ef35-4882-ff88-b7980fe8ea00"
      },
      "source": [
        "import random\n",
        "def print_start():\n",
        "  print('=======================[[GSM Restaurant]]=======================')\n",
        "  print('\\t\\t1. 메뉴 열람 및 주문')\n",
        "  print('\\t\\t2. 주문 전체 현황')\n",
        "  print('\\t\\t3. 주문 결제')\n",
        "  print('\\t\\t4. 시스템 종료')\n",
        "  select = int(input(\"선택>> \"))\n",
        "  return select\n",
        "\n",
        "def print_menu():\n",
        "  print('(1) 돈민지달걀볶음밥(\\ 13,000)')\n",
        "  print('(2) 토마토치즈제육덮밥(\\ 13,000)')\n",
        "  print('(3) 오꼬노미돈까스(\\ 13,000)')\n",
        "  menu  = int(input(\"메뉴 선택: \"))\n",
        "  qunt  = int(input(\"몇 인분을 주문하시겠습니까?: \"))\n",
        "  return menu, qunt\n",
        "\n",
        "ord = {'돈민지달걀볶음밥':0, '토마토치즈제육덮밥':0, '오꼬노미돈까스':0}\n",
        "sad = ['돈민지달걀볶음밥', '토마토치즈제육덮밥', '오꼬노미돈까스']\n",
        "table = [0,0,0,0,0,0,0,0,0,0]\n",
        "tables = ['빈테이블','빈테이블','빈테이블','빈테이블','빈테이블','빈테이블','빈테이블','빈테이블','빈테이블','빈테이블']\n",
        "table_menu = [0,0,0,0,0,0,0,0,0,0]\n",
        "num = 0\n",
        "\n",
        "while True:\n",
        "  select = print_start()\n",
        "  while talbles[num-1] != '사용중':\n",
        "    num = random.randrange(1, 11)\n",
        "  if select == 1:\n",
        "    while True:\n",
        "      menu, qunt = print_menu()\n",
        "      ord[sad[menu-1]] += qunt\n",
        "      table[num-1] += ord[sad[menu-1]] * 13000\n",
        "      tables[num-1] = '사용중'\n",
        "      c = input(\"계속 하시겠습니까?(y/n)\")\n",
        "      print()\n",
        "\n",
        "      if c == 'y':\n",
        "        continue\n",
        "      else:\n",
        "        table_menu[num-1] = ord\n",
        "        ord = {'돈민지달걀볶음밥':0, '토마토치즈제육덮밥':0, '오꼬노미돈까스':0}\n",
        "        break\n",
        "      continue\n",
        "  elif select == 2:\n",
        "    print('========================================================================================')\n",
        "    print('\\t\\t테이블 번호\\t결제금액\\t\\t테이블 상태')\n",
        "    print('========================================================================================')\n",
        "    for i in range(10):\n",
        "      print('\\t\\t\\t%d\\t\\t%d\\t\\t%s' % (i+1, table[i], tables[i]))\n",
        "    print()\n",
        "\n",
        "  elif select == 3:\n",
        "    tableno = int(input(\"테이블 번호를 입력해 주세요>> \"))\n",
        "    try:\n",
        "      key = list(table_menu[tableno-1].keys())\n",
        "      value = list(table_menu[tableno-1].values())\n",
        "      print('========================================================================================')\n",
        "      for i in range(3):\n",
        "        print('\\t\\t\\t%s\\t\\t%d' % (key[i], value[i]))\n",
        "      print('========================================================================================')\n",
        "      print('\\t\\t\\t\\t\\t\\t총: %d원' % table[num-1])\n",
        "      table_menu[tableno-1] = 0\n",
        "      table[num-1] = 0\n",
        "      tables[num-1] = \"빈테이블\"\n",
        "    except:\n",
        "      continue\n",
        "  \n",
        "  else:\n",
        "    break\n",
        "\n",
        "\n",
        "\n",
        "\n",
        "\n",
        "\n"
      ],
      "execution_count": 16,
      "outputs": [
        {
          "output_type": "stream",
          "text": [
            "=======================[[GSM Restaurant]]=======================\n",
            "\t\t1. 메뉴 열람 및 주문\n",
            "\t\t2. 주문 전체 현황\n",
            "\t\t3. 주문 결제\n",
            "\t\t4. 시스템 종료\n",
            "선택>> 1\n"
          ],
          "name": "stdout"
        },
        {
          "output_type": "error",
          "ename": "KeyboardInterrupt",
          "evalue": "ignored",
          "traceback": [
            "\u001b[0;31m---------------------------------------------------------------------------\u001b[0m",
            "\u001b[0;31mKeyboardInterrupt\u001b[0m                         Traceback (most recent call last)",
            "\u001b[0;32m/usr/local/lib/python3.6/dist-packages/ipykernel/kernelbase.py\u001b[0m in \u001b[0;36m_input_request\u001b[0;34m(self, prompt, ident, parent, password)\u001b[0m\n\u001b[1;32m    729\u001b[0m             \u001b[0;32mtry\u001b[0m\u001b[0;34m:\u001b[0m\u001b[0;34m\u001b[0m\u001b[0;34m\u001b[0m\u001b[0m\n\u001b[0;32m--> 730\u001b[0;31m                 \u001b[0mident\u001b[0m\u001b[0;34m,\u001b[0m \u001b[0mreply\u001b[0m \u001b[0;34m=\u001b[0m \u001b[0mself\u001b[0m\u001b[0;34m.\u001b[0m\u001b[0msession\u001b[0m\u001b[0;34m.\u001b[0m\u001b[0mrecv\u001b[0m\u001b[0;34m(\u001b[0m\u001b[0mself\u001b[0m\u001b[0;34m.\u001b[0m\u001b[0mstdin_socket\u001b[0m\u001b[0;34m,\u001b[0m \u001b[0;36m0\u001b[0m\u001b[0;34m)\u001b[0m\u001b[0;34m\u001b[0m\u001b[0;34m\u001b[0m\u001b[0m\n\u001b[0m\u001b[1;32m    731\u001b[0m             \u001b[0;32mexcept\u001b[0m \u001b[0mException\u001b[0m\u001b[0;34m:\u001b[0m\u001b[0;34m\u001b[0m\u001b[0;34m\u001b[0m\u001b[0m\n",
            "\u001b[0;32m/usr/local/lib/python3.6/dist-packages/jupyter_client/session.py\u001b[0m in \u001b[0;36mrecv\u001b[0;34m(self, socket, mode, content, copy)\u001b[0m\n\u001b[1;32m    802\u001b[0m         \u001b[0;32mtry\u001b[0m\u001b[0;34m:\u001b[0m\u001b[0;34m\u001b[0m\u001b[0;34m\u001b[0m\u001b[0m\n\u001b[0;32m--> 803\u001b[0;31m             \u001b[0mmsg_list\u001b[0m \u001b[0;34m=\u001b[0m \u001b[0msocket\u001b[0m\u001b[0;34m.\u001b[0m\u001b[0mrecv_multipart\u001b[0m\u001b[0;34m(\u001b[0m\u001b[0mmode\u001b[0m\u001b[0;34m,\u001b[0m \u001b[0mcopy\u001b[0m\u001b[0;34m=\u001b[0m\u001b[0mcopy\u001b[0m\u001b[0;34m)\u001b[0m\u001b[0;34m\u001b[0m\u001b[0;34m\u001b[0m\u001b[0m\n\u001b[0m\u001b[1;32m    804\u001b[0m         \u001b[0;32mexcept\u001b[0m \u001b[0mzmq\u001b[0m\u001b[0;34m.\u001b[0m\u001b[0mZMQError\u001b[0m \u001b[0;32mas\u001b[0m \u001b[0me\u001b[0m\u001b[0;34m:\u001b[0m\u001b[0;34m\u001b[0m\u001b[0;34m\u001b[0m\u001b[0m\n",
            "\u001b[0;32m/usr/local/lib/python3.6/dist-packages/zmq/sugar/socket.py\u001b[0m in \u001b[0;36mrecv_multipart\u001b[0;34m(self, flags, copy, track)\u001b[0m\n\u001b[1;32m    465\u001b[0m         \"\"\"\n\u001b[0;32m--> 466\u001b[0;31m         \u001b[0mparts\u001b[0m \u001b[0;34m=\u001b[0m \u001b[0;34m[\u001b[0m\u001b[0mself\u001b[0m\u001b[0;34m.\u001b[0m\u001b[0mrecv\u001b[0m\u001b[0;34m(\u001b[0m\u001b[0mflags\u001b[0m\u001b[0;34m,\u001b[0m \u001b[0mcopy\u001b[0m\u001b[0;34m=\u001b[0m\u001b[0mcopy\u001b[0m\u001b[0;34m,\u001b[0m \u001b[0mtrack\u001b[0m\u001b[0;34m=\u001b[0m\u001b[0mtrack\u001b[0m\u001b[0;34m)\u001b[0m\u001b[0;34m]\u001b[0m\u001b[0;34m\u001b[0m\u001b[0;34m\u001b[0m\u001b[0m\n\u001b[0m\u001b[1;32m    467\u001b[0m         \u001b[0;31m# have first part already, only loop while more to receive\u001b[0m\u001b[0;34m\u001b[0m\u001b[0;34m\u001b[0m\u001b[0;34m\u001b[0m\u001b[0m\n",
            "\u001b[0;32mzmq/backend/cython/socket.pyx\u001b[0m in \u001b[0;36mzmq.backend.cython.socket.Socket.recv\u001b[0;34m()\u001b[0m\n",
            "\u001b[0;32mzmq/backend/cython/socket.pyx\u001b[0m in \u001b[0;36mzmq.backend.cython.socket.Socket.recv\u001b[0;34m()\u001b[0m\n",
            "\u001b[0;32mzmq/backend/cython/socket.pyx\u001b[0m in \u001b[0;36mzmq.backend.cython.socket._recv_copy\u001b[0;34m()\u001b[0m\n",
            "\u001b[0;32m/usr/local/lib/python3.6/dist-packages/zmq/backend/cython/checkrc.pxd\u001b[0m in \u001b[0;36mzmq.backend.cython.checkrc._check_rc\u001b[0;34m()\u001b[0m\n",
            "\u001b[0;31mKeyboardInterrupt\u001b[0m: ",
            "\nDuring handling of the above exception, another exception occurred:\n",
            "\u001b[0;31mKeyboardInterrupt\u001b[0m                         Traceback (most recent call last)",
            "\u001b[0;32m<ipython-input-16-45e73dc64d78>\u001b[0m in \u001b[0;36m<module>\u001b[0;34m()\u001b[0m\n\u001b[1;32m     28\u001b[0m   \u001b[0;32mif\u001b[0m \u001b[0mselect\u001b[0m \u001b[0;34m==\u001b[0m \u001b[0;36m1\u001b[0m\u001b[0;34m:\u001b[0m\u001b[0;34m\u001b[0m\u001b[0;34m\u001b[0m\u001b[0m\n\u001b[1;32m     29\u001b[0m     \u001b[0;32mwhile\u001b[0m \u001b[0;32mTrue\u001b[0m\u001b[0;34m:\u001b[0m\u001b[0;34m\u001b[0m\u001b[0;34m\u001b[0m\u001b[0m\n\u001b[0;32m---> 30\u001b[0;31m       \u001b[0mnum\u001b[0m\u001b[0;34m,\u001b[0m \u001b[0mmenu\u001b[0m\u001b[0;34m,\u001b[0m \u001b[0mqunt\u001b[0m \u001b[0;34m=\u001b[0m \u001b[0mprint_menu\u001b[0m\u001b[0;34m(\u001b[0m\u001b[0;34m)\u001b[0m\u001b[0;34m\u001b[0m\u001b[0;34m\u001b[0m\u001b[0m\n\u001b[0m\u001b[1;32m     31\u001b[0m       \u001b[0mord\u001b[0m\u001b[0;34m[\u001b[0m\u001b[0msad\u001b[0m\u001b[0;34m[\u001b[0m\u001b[0mmenu\u001b[0m\u001b[0;34m-\u001b[0m\u001b[0;36m1\u001b[0m\u001b[0;34m]\u001b[0m\u001b[0;34m]\u001b[0m \u001b[0;34m+=\u001b[0m \u001b[0mqunt\u001b[0m\u001b[0;34m\u001b[0m\u001b[0;34m\u001b[0m\u001b[0m\n\u001b[1;32m     32\u001b[0m       \u001b[0mtable\u001b[0m\u001b[0;34m[\u001b[0m\u001b[0mnum\u001b[0m\u001b[0;34m-\u001b[0m\u001b[0;36m1\u001b[0m\u001b[0;34m]\u001b[0m \u001b[0;34m+=\u001b[0m \u001b[0mord\u001b[0m\u001b[0;34m[\u001b[0m\u001b[0msad\u001b[0m\u001b[0;34m[\u001b[0m\u001b[0mmenu\u001b[0m\u001b[0;34m-\u001b[0m\u001b[0;36m1\u001b[0m\u001b[0;34m]\u001b[0m\u001b[0;34m]\u001b[0m \u001b[0;34m*\u001b[0m \u001b[0;36m13000\u001b[0m\u001b[0;34m\u001b[0m\u001b[0;34m\u001b[0m\u001b[0m\n",
            "\u001b[0;32m<ipython-input-16-45e73dc64d78>\u001b[0m in \u001b[0;36mprint_menu\u001b[0;34m()\u001b[0m\n\u001b[1;32m      9\u001b[0m \u001b[0;34m\u001b[0m\u001b[0m\n\u001b[1;32m     10\u001b[0m \u001b[0;32mdef\u001b[0m \u001b[0mprint_menu\u001b[0m\u001b[0;34m(\u001b[0m\u001b[0;34m)\u001b[0m\u001b[0;34m:\u001b[0m\u001b[0;34m\u001b[0m\u001b[0;34m\u001b[0m\u001b[0m\n\u001b[0;32m---> 11\u001b[0;31m   \u001b[0mnum\u001b[0m \u001b[0;34m=\u001b[0m \u001b[0mint\u001b[0m\u001b[0;34m(\u001b[0m\u001b[0minput\u001b[0m\u001b[0;34m(\u001b[0m\u001b[0;34m\"좌석 번호를 입력해 주세요>>\"\u001b[0m\u001b[0;34m)\u001b[0m\u001b[0;34m)\u001b[0m\u001b[0;34m\u001b[0m\u001b[0;34m\u001b[0m\u001b[0m\n\u001b[0m\u001b[1;32m     12\u001b[0m   \u001b[0mprint\u001b[0m\u001b[0;34m(\u001b[0m\u001b[0;34m'(1) 돈민지달걀볶음밥(\\ 13,000)'\u001b[0m\u001b[0;34m)\u001b[0m\u001b[0;34m\u001b[0m\u001b[0;34m\u001b[0m\u001b[0m\n\u001b[1;32m     13\u001b[0m   \u001b[0mprint\u001b[0m\u001b[0;34m(\u001b[0m\u001b[0;34m'(2) 토마토치즈제육덮밥(\\ 13,000)'\u001b[0m\u001b[0;34m)\u001b[0m\u001b[0;34m\u001b[0m\u001b[0;34m\u001b[0m\u001b[0m\n",
            "\u001b[0;32m/usr/local/lib/python3.6/dist-packages/ipykernel/kernelbase.py\u001b[0m in \u001b[0;36mraw_input\u001b[0;34m(self, prompt)\u001b[0m\n\u001b[1;32m    703\u001b[0m             \u001b[0mself\u001b[0m\u001b[0;34m.\u001b[0m\u001b[0m_parent_ident\u001b[0m\u001b[0;34m,\u001b[0m\u001b[0;34m\u001b[0m\u001b[0;34m\u001b[0m\u001b[0m\n\u001b[1;32m    704\u001b[0m             \u001b[0mself\u001b[0m\u001b[0;34m.\u001b[0m\u001b[0m_parent_header\u001b[0m\u001b[0;34m,\u001b[0m\u001b[0;34m\u001b[0m\u001b[0;34m\u001b[0m\u001b[0m\n\u001b[0;32m--> 705\u001b[0;31m             \u001b[0mpassword\u001b[0m\u001b[0;34m=\u001b[0m\u001b[0;32mFalse\u001b[0m\u001b[0;34m,\u001b[0m\u001b[0;34m\u001b[0m\u001b[0;34m\u001b[0m\u001b[0m\n\u001b[0m\u001b[1;32m    706\u001b[0m         )\n\u001b[1;32m    707\u001b[0m \u001b[0;34m\u001b[0m\u001b[0m\n",
            "\u001b[0;32m/usr/local/lib/python3.6/dist-packages/ipykernel/kernelbase.py\u001b[0m in \u001b[0;36m_input_request\u001b[0;34m(self, prompt, ident, parent, password)\u001b[0m\n\u001b[1;32m    733\u001b[0m             \u001b[0;32mexcept\u001b[0m \u001b[0mKeyboardInterrupt\u001b[0m\u001b[0;34m:\u001b[0m\u001b[0;34m\u001b[0m\u001b[0;34m\u001b[0m\u001b[0m\n\u001b[1;32m    734\u001b[0m                 \u001b[0;31m# re-raise KeyboardInterrupt, to truncate traceback\u001b[0m\u001b[0;34m\u001b[0m\u001b[0;34m\u001b[0m\u001b[0;34m\u001b[0m\u001b[0m\n\u001b[0;32m--> 735\u001b[0;31m                 \u001b[0;32mraise\u001b[0m \u001b[0mKeyboardInterrupt\u001b[0m\u001b[0;34m\u001b[0m\u001b[0;34m\u001b[0m\u001b[0m\n\u001b[0m\u001b[1;32m    736\u001b[0m             \u001b[0;32melse\u001b[0m\u001b[0;34m:\u001b[0m\u001b[0;34m\u001b[0m\u001b[0;34m\u001b[0m\u001b[0m\n\u001b[1;32m    737\u001b[0m                 \u001b[0;32mbreak\u001b[0m\u001b[0;34m\u001b[0m\u001b[0;34m\u001b[0m\u001b[0m\n",
            "\u001b[0;31mKeyboardInterrupt\u001b[0m: "
          ]
        }
      ]
    }
  ]
}