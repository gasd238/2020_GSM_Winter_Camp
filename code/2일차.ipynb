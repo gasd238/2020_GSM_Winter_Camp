{
  "nbformat": 4,
  "nbformat_minor": 0,
  "metadata": {
    "colab": {
      "name": "2일차.ipynb",
      "provenance": [],
      "collapsed_sections": [],
      "authorship_tag": "ABX9TyN7SsTeL3FI4WXjdojSeF/s",
      "include_colab_link": true
    },
    "kernelspec": {
      "name": "python3",
      "display_name": "Python 3"
    }
  },
  "cells": [
    {
      "cell_type": "markdown",
      "metadata": {
        "id": "view-in-github",
        "colab_type": "text"
      },
      "source": [
        "<a href=\"https://colab.research.google.com/github/gasd238/2020_GSM_Winter_Camp/blob/master/code/2%EC%9D%BC%EC%B0%A8.ipynb\" target=\"_parent\"><img src=\"https://colab.research.google.com/assets/colab-badge.svg\" alt=\"Open In Colab\"/></a>"
      ]
    },
    {
      "cell_type": "code",
      "metadata": {
        "id": "a-ExuRRtT4Ax",
        "colab_type": "code",
        "outputId": "102e2d4f-02a6-4c55-ec4f-0f9dd86a0b03",
        "colab": {
          "base_uri": "https://localhost:8080/",
          "height": 36
        }
      },
      "source": [
        "import numpy as np\n",
        "data1 = [0,1,2,3,4,5]\n",
        "a1 = np.array(data1)\n",
        "a1\n"
      ],
      "execution_count": 0,
      "outputs": [
        {
          "output_type": "execute_result",
          "data": {
            "text/plain": [
              "array([0, 1, 2, 3, 4, 5])"
            ]
          },
          "metadata": {
            "tags": []
          },
          "execution_count": 4
        }
      ]
    },
    {
      "cell_type": "code",
      "metadata": {
        "id": "WTKYCXNFVU6V",
        "colab_type": "code",
        "outputId": "d549361a-c629-4948-b89c-fbe347c17b66",
        "colab": {
          "base_uri": "https://localhost:8080/",
          "height": 36
        }
      },
      "source": [
        "data2 = [0.1, 5, 4, 12, 0.5]\n",
        "a2 = np.array(data2)\n",
        "a2"
      ],
      "execution_count": 0,
      "outputs": [
        {
          "output_type": "execute_result",
          "data": {
            "text/plain": [
              "array([ 0.1,  5. ,  4. , 12. ,  0.5])"
            ]
          },
          "metadata": {
            "tags": []
          },
          "execution_count": 5
        }
      ]
    },
    {
      "cell_type": "code",
      "metadata": {
        "id": "scP5cbloV77Z",
        "colab_type": "code",
        "outputId": "ad36bd4d-6edb-4af4-9829-47b46ed5d541",
        "colab": {
          "base_uri": "https://localhost:8080/",
          "height": 36
        }
      },
      "source": [
        "  a1.dtype"
      ],
      "execution_count": 0,
      "outputs": [
        {
          "output_type": "execute_result",
          "data": {
            "text/plain": [
              "dtype('int64')"
            ]
          },
          "metadata": {
            "tags": []
          },
          "execution_count": 6
        }
      ]
    },
    {
      "cell_type": "code",
      "metadata": {
        "id": "nBiVSObQXttL",
        "colab_type": "code",
        "outputId": "24d42338-b741-4232-f6eb-8a70a8960a63",
        "colab": {
          "base_uri": "https://localhost:8080/",
          "height": 36
        }
      },
      "source": [
        "a2.dtype"
      ],
      "execution_count": 0,
      "outputs": [
        {
          "output_type": "execute_result",
          "data": {
            "text/plain": [
              "dtype('float64')"
            ]
          },
          "metadata": {
            "tags": []
          },
          "execution_count": 7
        }
      ]
    },
    {
      "cell_type": "code",
      "metadata": {
        "id": "LtOakK0rXv2U",
        "colab_type": "code",
        "outputId": "38c730b6-1bac-40fc-df03-eb1bf9af5042",
        "colab": {
          "base_uri": "https://localhost:8080/",
          "height": 74
        }
      },
      "source": [
        "np.array([[1,2,3],[4,5,6],[7,8,9]])"
      ],
      "execution_count": 0,
      "outputs": [
        {
          "output_type": "execute_result",
          "data": {
            "text/plain": [
              "array([[1, 2, 3],\n",
              "       [4, 5, 6],\n",
              "       [7, 8, 9]])"
            ]
          },
          "metadata": {
            "tags": []
          },
          "execution_count": 9
        }
      ]
    },
    {
      "cell_type": "code",
      "metadata": {
        "id": "pEU_5EAYZTOb",
        "colab_type": "code",
        "outputId": "1768c056-74b4-42ae-ea16-f427eb090c5e",
        "colab": {
          "base_uri": "https://localhost:8080/",
          "height": 36
        }
      },
      "source": [
        "np.arange(0,10,2)"
      ],
      "execution_count": 0,
      "outputs": [
        {
          "output_type": "execute_result",
          "data": {
            "text/plain": [
              "array([0, 2, 4, 6, 8])"
            ]
          },
          "metadata": {
            "tags": []
          },
          "execution_count": 10
        }
      ]
    },
    {
      "cell_type": "code",
      "metadata": {
        "id": "_pXMk76xbBDD",
        "colab_type": "code",
        "outputId": "95e95d2b-db68-4da3-f8e3-6decf39fad03",
        "colab": {
          "base_uri": "https://localhost:8080/",
          "height": 36
        }
      },
      "source": [
        "np.arange(1,10)"
      ],
      "execution_count": 0,
      "outputs": [
        {
          "output_type": "execute_result",
          "data": {
            "text/plain": [
              "array([1, 2, 3, 4, 5, 6, 7, 8, 9])"
            ]
          },
          "metadata": {
            "tags": []
          },
          "execution_count": 13
        }
      ]
    },
    {
      "cell_type": "code",
      "metadata": {
        "id": "c9wKTAhjbD2A",
        "colab_type": "code",
        "outputId": "e8547282-b9a9-4336-f324-1cc4dcf923fb",
        "colab": {
          "base_uri": "https://localhost:8080/",
          "height": 36
        }
      },
      "source": [
        "np.arange(5)"
      ],
      "execution_count": 0,
      "outputs": [
        {
          "output_type": "execute_result",
          "data": {
            "text/plain": [
              "array([0, 1, 2, 3, 4])"
            ]
          },
          "metadata": {
            "tags": []
          },
          "execution_count": 12
        }
      ]
    },
    {
      "cell_type": "code",
      "metadata": {
        "id": "9RNY9rI3bI_p",
        "colab_type": "code",
        "outputId": "32fbd86d-ce50-40ab-b3e0-01d9465ff31f",
        "colab": {
          "base_uri": "https://localhost:8080/",
          "height": 92
        }
      },
      "source": [
        "np.arange(12).reshape(4,3)"
      ],
      "execution_count": 0,
      "outputs": [
        {
          "output_type": "execute_result",
          "data": {
            "text/plain": [
              "array([[ 0,  1,  2],\n",
              "       [ 3,  4,  5],\n",
              "       [ 6,  7,  8],\n",
              "       [ 9, 10, 11]])"
            ]
          },
          "metadata": {
            "tags": []
          },
          "execution_count": 16
        }
      ]
    },
    {
      "cell_type": "code",
      "metadata": {
        "id": "4IdYe6FvbvJw",
        "colab_type": "code",
        "outputId": "25de485e-55a2-4d5f-fe95-d6e93efc1694",
        "colab": {
          "base_uri": "https://localhost:8080/",
          "height": 36
        }
      },
      "source": [
        "b1 = np.arange(12).reshape(4,3)\n",
        "b1.shape"
      ],
      "execution_count": 0,
      "outputs": [
        {
          "output_type": "execute_result",
          "data": {
            "text/plain": [
              "(4, 3)"
            ]
          },
          "metadata": {
            "tags": []
          },
          "execution_count": 18
        }
      ]
    },
    {
      "cell_type": "code",
      "metadata": {
        "id": "_S48kMTPb-KS",
        "colab_type": "code",
        "outputId": "b2c2eac0-c969-4e05-d4d5-5cb8cc9be07e",
        "colab": {
          "base_uri": "https://localhost:8080/",
          "height": 36
        }
      },
      "source": [
        "b2 = np.arange(5)\n",
        "b2.shape"
      ],
      "execution_count": 0,
      "outputs": [
        {
          "output_type": "execute_result",
          "data": {
            "text/plain": [
              "(5,)"
            ]
          },
          "metadata": {
            "tags": []
          },
          "execution_count": 19
        }
      ]
    },
    {
      "cell_type": "code",
      "metadata": {
        "id": "69meFn5TcM_r",
        "colab_type": "code",
        "outputId": "136d6731-a85b-4082-8d0b-5a7aa74c96ce",
        "colab": {
          "base_uri": "https://localhost:8080/",
          "height": 36
        }
      },
      "source": [
        "np.linspace(1,10,10)"
      ],
      "execution_count": 0,
      "outputs": [
        {
          "output_type": "execute_result",
          "data": {
            "text/plain": [
              "array([ 1.,  2.,  3.,  4.,  5.,  6.,  7.,  8.,  9., 10.])"
            ]
          },
          "metadata": {
            "tags": []
          },
          "execution_count": 21
        }
      ]
    },
    {
      "cell_type": "code",
      "metadata": {
        "id": "hw3aZW4dcFGm",
        "colab_type": "code",
        "outputId": "e0f11b00-f2d2-4c67-986d-0c2227db30ba",
        "colab": {
          "base_uri": "https://localhost:8080/",
          "height": 92
        }
      },
      "source": [
        "np.linspace(0, np.pi, 20)"
      ],
      "execution_count": 0,
      "outputs": [
        {
          "output_type": "execute_result",
          "data": {
            "text/plain": [
              "array([0.        , 0.16534698, 0.33069396, 0.49604095, 0.66138793,\n",
              "       0.82673491, 0.99208189, 1.15742887, 1.32277585, 1.48812284,\n",
              "       1.65346982, 1.8188168 , 1.98416378, 2.14951076, 2.31485774,\n",
              "       2.48020473, 2.64555171, 2.81089869, 2.97624567, 3.14159265])"
            ]
          },
          "metadata": {
            "tags": []
          },
          "execution_count": 22
        }
      ]
    },
    {
      "cell_type": "code",
      "metadata": {
        "id": "Rp1UBJP7f6qf",
        "colab_type": "code",
        "outputId": "d8eea0e9-67b4-44df-c64b-83634e43f246",
        "colab": {
          "base_uri": "https://localhost:8080/",
          "height": 36
        }
      },
      "source": [
        "np.zeros(10)"
      ],
      "execution_count": 0,
      "outputs": [
        {
          "output_type": "execute_result",
          "data": {
            "text/plain": [
              "array([0., 0., 0., 0., 0., 0., 0., 0., 0., 0.])"
            ]
          },
          "metadata": {
            "tags": []
          },
          "execution_count": 23
        }
      ]
    },
    {
      "cell_type": "code",
      "metadata": {
        "id": "L7vneRcCf81u",
        "colab_type": "code",
        "outputId": "573fea4c-c963-411e-cacd-35e8c9491fc3",
        "colab": {
          "base_uri": "https://localhost:8080/",
          "height": 74
        }
      },
      "source": [
        "np.zeros((3,4))"
      ],
      "execution_count": 0,
      "outputs": [
        {
          "output_type": "execute_result",
          "data": {
            "text/plain": [
              "array([[0., 0., 0., 0.],\n",
              "       [0., 0., 0., 0.],\n",
              "       [0., 0., 0., 0.]])"
            ]
          },
          "metadata": {
            "tags": []
          },
          "execution_count": 24
        }
      ]
    },
    {
      "cell_type": "code",
      "metadata": {
        "id": "Qu9NTY_8f-8r",
        "colab_type": "code",
        "outputId": "8923b6c7-cc52-47b0-f844-6ef2412ecf99",
        "colab": {
          "base_uri": "https://localhost:8080/",
          "height": 36
        }
      },
      "source": [
        "np.ones(5)"
      ],
      "execution_count": 0,
      "outputs": [
        {
          "output_type": "execute_result",
          "data": {
            "text/plain": [
              "array([1., 1., 1., 1., 1.])"
            ]
          },
          "metadata": {
            "tags": []
          },
          "execution_count": 25
        }
      ]
    },
    {
      "cell_type": "code",
      "metadata": {
        "id": "mZTjVjtDgBNv",
        "colab_type": "code",
        "outputId": "c424fcf3-9da1-4a0d-d67c-eb996a0f2396",
        "colab": {
          "base_uri": "https://localhost:8080/",
          "height": 74
        }
      },
      "source": [
        "np.ones((3,5))"
      ],
      "execution_count": 0,
      "outputs": [
        {
          "output_type": "execute_result",
          "data": {
            "text/plain": [
              "array([[1., 1., 1., 1., 1.],\n",
              "       [1., 1., 1., 1., 1.],\n",
              "       [1., 1., 1., 1., 1.]])"
            ]
          },
          "metadata": {
            "tags": []
          },
          "execution_count": 26
        }
      ]
    },
    {
      "cell_type": "code",
      "metadata": {
        "id": "KA7MZKvihG_o",
        "colab_type": "code",
        "outputId": "b95da684-9cbc-436b-f8d1-82658130ccda",
        "colab": {
          "base_uri": "https://localhost:8080/",
          "height": 74
        }
      },
      "source": [
        "np.eye(3)"
      ],
      "execution_count": 0,
      "outputs": [
        {
          "output_type": "execute_result",
          "data": {
            "text/plain": [
              "array([[1., 0., 0.],\n",
              "       [0., 1., 0.],\n",
              "       [0., 0., 1.]])"
            ]
          },
          "metadata": {
            "tags": []
          },
          "execution_count": 28
        }
      ]
    },
    {
      "cell_type": "code",
      "metadata": {
        "id": "znyCtv-2h0zN",
        "colab_type": "code",
        "outputId": "e3f9a95c-f352-4cb5-bef9-4c5002ea1b58",
        "colab": {
          "base_uri": "https://localhost:8080/",
          "height": 36
        }
      },
      "source": [
        "str_a1 = np.array(['1.567','0.123','5.123','9','8'])\n",
        "num_a1 = str_a1.astype(float)\n",
        "num_a1"
      ],
      "execution_count": 0,
      "outputs": [
        {
          "output_type": "execute_result",
          "data": {
            "text/plain": [
              "array([1.567, 0.123, 5.123, 9.   , 8.   ])"
            ]
          },
          "metadata": {
            "tags": []
          },
          "execution_count": 29
        }
      ]
    },
    {
      "cell_type": "code",
      "metadata": {
        "id": "3QZ9kisoiDaa",
        "colab_type": "code",
        "outputId": "db1c219a-8522-4a21-bee7-2496148a5e59",
        "colab": {
          "base_uri": "https://localhost:8080/",
          "height": 36
        }
      },
      "source": [
        "str_a1.dtype"
      ],
      "execution_count": 0,
      "outputs": [
        {
          "output_type": "execute_result",
          "data": {
            "text/plain": [
              "dtype('<U5')"
            ]
          },
          "metadata": {
            "tags": []
          },
          "execution_count": 31
        }
      ]
    },
    {
      "cell_type": "code",
      "metadata": {
        "id": "8GqQNOqHiI6C",
        "colab_type": "code",
        "outputId": "766b0ecd-8ee7-423e-d2b3-163ef6ab4a9b",
        "colab": {
          "base_uri": "https://localhost:8080/",
          "height": 36
        }
      },
      "source": [
        "num_a1.dtype"
      ],
      "execution_count": 0,
      "outputs": [
        {
          "output_type": "execute_result",
          "data": {
            "text/plain": [
              "dtype('float64')"
            ]
          },
          "metadata": {
            "tags": []
          },
          "execution_count": 32
        }
      ]
    },
    {
      "cell_type": "code",
      "metadata": {
        "id": "CbRG-jtiig7n",
        "colab_type": "code",
        "outputId": "2e637746-bc23-43a7-e430-1596d3fe2cad",
        "colab": {
          "base_uri": "https://localhost:8080/",
          "height": 55
        }
      },
      "source": [
        "np.random.rand(2,3)"
      ],
      "execution_count": 0,
      "outputs": [
        {
          "output_type": "execute_result",
          "data": {
            "text/plain": [
              "array([[0.33395688, 0.95291916, 0.33460222],\n",
              "       [0.16781829, 0.89652632, 0.85346886]])"
            ]
          },
          "metadata": {
            "tags": []
          },
          "execution_count": 33
        }
      ]
    },
    {
      "cell_type": "code",
      "metadata": {
        "id": "Y75qBkO-jRFU",
        "colab_type": "code",
        "outputId": "e850a050-3784-4dde-805b-a676d57d7753",
        "colab": {
          "base_uri": "https://localhost:8080/",
          "height": 36
        }
      },
      "source": [
        "np.random.rand()"
      ],
      "execution_count": 0,
      "outputs": [
        {
          "output_type": "execute_result",
          "data": {
            "text/plain": [
              "0.05806377238819327"
            ]
          },
          "metadata": {
            "tags": []
          },
          "execution_count": 34
        }
      ]
    },
    {
      "cell_type": "code",
      "metadata": {
        "id": "T5g90wRUjTmk",
        "colab_type": "code",
        "outputId": "7ed2c1f6-43b2-4ab9-94c2-fc6440645aa7",
        "colab": {
          "base_uri": "https://localhost:8080/",
          "height": 149
        }
      },
      "source": [
        "np.random.rand(2,3,4)"
      ],
      "execution_count": 0,
      "outputs": [
        {
          "output_type": "execute_result",
          "data": {
            "text/plain": [
              "array([[[0.22043467, 0.80004039, 0.33499111, 0.37119895],\n",
              "        [0.35679519, 0.96110771, 0.70398731, 0.6349718 ],\n",
              "        [0.18267249, 0.86064044, 0.83606049, 0.93487785]],\n",
              "\n",
              "       [[0.21652582, 0.307954  , 0.44471405, 0.10597823],\n",
              "        [0.84791868, 0.4515251 , 0.95522636, 0.48334256],\n",
              "        [0.17949904, 0.74728143, 0.35356582, 0.12156829]]])"
            ]
          },
          "metadata": {
            "tags": []
          },
          "execution_count": 35
        }
      ]
    },
    {
      "cell_type": "code",
      "metadata": {
        "id": "6cG5uJFak444",
        "colab_type": "code",
        "outputId": "dc9fba1e-27c5-4e85-d64a-d50735b2f09b",
        "colab": {
          "base_uri": "https://localhost:8080/",
          "height": 74
        }
      },
      "source": [
        "np.random.randint(10, size=(3,4))"
      ],
      "execution_count": 0,
      "outputs": [
        {
          "output_type": "execute_result",
          "data": {
            "text/plain": [
              "array([[7, 1, 9, 0],\n",
              "       [2, 6, 7, 3],\n",
              "       [9, 9, 7, 9]])"
            ]
          },
          "metadata": {
            "tags": []
          },
          "execution_count": 36
        }
      ]
    },
    {
      "cell_type": "code",
      "metadata": {
        "id": "6i23JCOwk-h8",
        "colab_type": "code",
        "outputId": "b9771380-95d4-404a-b0af-87f0f1ad00cf",
        "colab": {
          "base_uri": "https://localhost:8080/",
          "height": 36
        }
      },
      "source": [
        "np.random.randint(1,30)"
      ],
      "execution_count": 0,
      "outputs": [
        {
          "output_type": "execute_result",
          "data": {
            "text/plain": [
              "26"
            ]
          },
          "metadata": {
            "tags": []
          },
          "execution_count": 53
        }
      ]
    },
    {
      "cell_type": "code",
      "metadata": {
        "id": "RZ8q2fJzlXYZ",
        "colab_type": "code",
        "colab": {}
      },
      "source": [
        "arr1 = np.array([10,20,30,40])\n",
        "arr2 = np.array([1,2,3,4])"
      ],
      "execution_count": 0,
      "outputs": []
    },
    {
      "cell_type": "code",
      "metadata": {
        "id": "at1VCHvBlgcQ",
        "colab_type": "code",
        "outputId": "e738d5d6-fd7a-4411-e3e1-0db75d075415",
        "colab": {
          "base_uri": "https://localhost:8080/",
          "height": 36
        }
      },
      "source": [
        "arr1 + arr2"
      ],
      "execution_count": 0,
      "outputs": [
        {
          "output_type": "execute_result",
          "data": {
            "text/plain": [
              "array([11, 22, 33, 44])"
            ]
          },
          "metadata": {
            "tags": []
          },
          "execution_count": 56
        }
      ]
    },
    {
      "cell_type": "code",
      "metadata": {
        "id": "RoZJS-R4liEY",
        "colab_type": "code",
        "outputId": "6b0ef03f-f2d6-4d08-b8d6-fd525ae269b2",
        "colab": {
          "base_uri": "https://localhost:8080/",
          "height": 36
        }
      },
      "source": [
        "arr1 - arr2"
      ],
      "execution_count": 0,
      "outputs": [
        {
          "output_type": "execute_result",
          "data": {
            "text/plain": [
              "array([ 9, 18, 27, 36])"
            ]
          },
          "metadata": {
            "tags": []
          },
          "execution_count": 57
        }
      ]
    },
    {
      "cell_type": "code",
      "metadata": {
        "id": "FgKrqgTmls2K",
        "colab_type": "code",
        "outputId": "768c4425-76ba-4e19-9081-8afda4b0000e",
        "colab": {
          "base_uri": "https://localhost:8080/",
          "height": 36
        }
      },
      "source": [
        "arr2 * 2"
      ],
      "execution_count": 0,
      "outputs": [
        {
          "output_type": "execute_result",
          "data": {
            "text/plain": [
              "array([2, 4, 6, 8])"
            ]
          },
          "metadata": {
            "tags": []
          },
          "execution_count": 61
        }
      ]
    },
    {
      "cell_type": "code",
      "metadata": {
        "id": "zkS8w70dlvI9",
        "colab_type": "code",
        "outputId": "1066076d-bd0b-471f-a524-9e99c9aefa0e",
        "colab": {
          "base_uri": "https://localhost:8080/",
          "height": 36
        }
      },
      "source": [
        "arr2 ** 2"
      ],
      "execution_count": 0,
      "outputs": [
        {
          "output_type": "execute_result",
          "data": {
            "text/plain": [
              "array([ 1,  4,  9, 16])"
            ]
          },
          "metadata": {
            "tags": []
          },
          "execution_count": 60
        }
      ]
    },
    {
      "cell_type": "code",
      "metadata": {
        "id": "Z3liUIQhnDmi",
        "colab_type": "code",
        "outputId": "ec7a9dfd-da60-44ac-9997-e9411a47fe25",
        "colab": {
          "base_uri": "https://localhost:8080/",
          "height": 36
        }
      },
      "source": [
        "arr1 / (arr2 ** 2)"
      ],
      "execution_count": 0,
      "outputs": [
        {
          "output_type": "execute_result",
          "data": {
            "text/plain": [
              "array([10.        ,  5.        ,  3.33333333,  2.5       ])"
            ]
          },
          "metadata": {
            "tags": []
          },
          "execution_count": 62
        }
      ]
    },
    {
      "cell_type": "code",
      "metadata": {
        "id": "TvXnWU7JnGUd",
        "colab_type": "code",
        "outputId": "d7a5c959-beb0-4ff6-dcec-084c68c5ac92",
        "colab": {
          "base_uri": "https://localhost:8080/",
          "height": 36
        }
      },
      "source": [
        "arr1 > 20"
      ],
      "execution_count": 0,
      "outputs": [
        {
          "output_type": "execute_result",
          "data": {
            "text/plain": [
              "array([False, False,  True,  True])"
            ]
          },
          "metadata": {
            "tags": []
          },
          "execution_count": 63
        }
      ]
    },
    {
      "cell_type": "code",
      "metadata": {
        "id": "KmVYv8vxnI0W",
        "colab_type": "code",
        "outputId": "c4851498-4b9a-40ae-c697-c743183cef00",
        "colab": {
          "base_uri": "https://localhost:8080/",
          "height": 36
        }
      },
      "source": [
        "arr3 = np.arange(5)\n",
        "arr3"
      ],
      "execution_count": 0,
      "outputs": [
        {
          "output_type": "execute_result",
          "data": {
            "text/plain": [
              "array([0, 1, 2, 3, 4])"
            ]
          },
          "metadata": {
            "tags": []
          },
          "execution_count": 64
        }
      ]
    },
    {
      "cell_type": "code",
      "metadata": {
        "id": "-JWLKhAwni4H",
        "colab_type": "code",
        "outputId": "240e7673-d8df-4902-f333-12ea6d6d7abe",
        "colab": {
          "base_uri": "https://localhost:8080/",
          "height": 36
        }
      },
      "source": [
        "[arr3.sum(), arr3.mean()]"
      ],
      "execution_count": 0,
      "outputs": [
        {
          "output_type": "execute_result",
          "data": {
            "text/plain": [
              "[10, 2.0]"
            ]
          },
          "metadata": {
            "tags": []
          },
          "execution_count": 65
        }
      ]
    },
    {
      "cell_type": "code",
      "metadata": {
        "id": "YDh2w3g-noeK",
        "colab_type": "code",
        "outputId": "a7649d96-f27d-44c7-b91b-515963e1341a",
        "colab": {
          "base_uri": "https://localhost:8080/",
          "height": 36
        }
      },
      "source": [
        "[arr3.std(), arr3.var()]"
      ],
      "execution_count": 0,
      "outputs": [
        {
          "output_type": "execute_result",
          "data": {
            "text/plain": [
              "[1.4142135623730951, 2.0]"
            ]
          },
          "metadata": {
            "tags": []
          },
          "execution_count": 67
        }
      ]
    },
    {
      "cell_type": "code",
      "metadata": {
        "id": "WahLL_G4nv3O",
        "colab_type": "code",
        "outputId": "0a9cae16-4f4c-49d9-8174-bf1161424aec",
        "colab": {
          "base_uri": "https://localhost:8080/",
          "height": 36
        }
      },
      "source": [
        "[arr3.min(), arr3.max()]"
      ],
      "execution_count": 0,
      "outputs": [
        {
          "output_type": "execute_result",
          "data": {
            "text/plain": [
              "[0, 4]"
            ]
          },
          "metadata": {
            "tags": []
          },
          "execution_count": 68
        }
      ]
    },
    {
      "cell_type": "code",
      "metadata": {
        "id": "SQQp_xDooi5z",
        "colab_type": "code",
        "outputId": "14c1583f-e903-47f0-80ec-64abb6b1726b",
        "colab": {
          "base_uri": "https://localhost:8080/",
          "height": 36
        }
      },
      "source": [
        "arr4 = np.arange(1,5)"
      ],
      "execution_count": 0,
      "outputs": [
        {
          "output_type": "execute_result",
          "data": {
            "text/plain": [
              "array([1, 2, 3, 4])"
            ]
          },
          "metadata": {
            "tags": []
          },
          "execution_count": 72
        }
      ]
    },
    {
      "cell_type": "code",
      "metadata": {
        "id": "iSoc-Yr7olvr",
        "colab_type": "code",
        "outputId": "65bb934a-8573-423a-ae32-887e9a6b04d8",
        "colab": {
          "base_uri": "https://localhost:8080/",
          "height": 36
        }
      },
      "source": [
        "arr4.cumsum()"
      ],
      "execution_count": 0,
      "outputs": [
        {
          "output_type": "execute_result",
          "data": {
            "text/plain": [
              "array([ 1,  3,  6, 10])"
            ]
          },
          "metadata": {
            "tags": []
          },
          "execution_count": 70
        }
      ]
    },
    {
      "cell_type": "code",
      "metadata": {
        "id": "yglZIcGoop44",
        "colab_type": "code",
        "outputId": "04753f19-2268-410a-8dec-9970820ad266",
        "colab": {
          "base_uri": "https://localhost:8080/",
          "height": 36
        }
      },
      "source": [
        "arr4.cumprod()"
      ],
      "execution_count": 0,
      "outputs": [
        {
          "output_type": "execute_result",
          "data": {
            "text/plain": [
              "array([ 1,  2,  6, 24])"
            ]
          },
          "metadata": {
            "tags": []
          },
          "execution_count": 71
        }
      ]
    },
    {
      "cell_type": "code",
      "metadata": {
        "id": "SBZ9JdHupepr",
        "colab_type": "code",
        "outputId": "5f387c2e-d671-4b55-becd-d27c43f3a74c",
        "colab": {
          "base_uri": "https://localhost:8080/",
          "height": 55
        }
      },
      "source": [
        "A = np.array([0,1,2,3]).reshape(2,2)\n",
        "A"
      ],
      "execution_count": 0,
      "outputs": [
        {
          "output_type": "execute_result",
          "data": {
            "text/plain": [
              "array([[0, 1],\n",
              "       [2, 3]])"
            ]
          },
          "metadata": {
            "tags": []
          },
          "execution_count": 73
        }
      ]
    },
    {
      "cell_type": "code",
      "metadata": {
        "id": "qmBu6o97uB0u",
        "colab_type": "code",
        "outputId": "315205b0-ec51-44b2-b2e3-98adc78f3da7",
        "colab": {
          "base_uri": "https://localhost:8080/",
          "height": 55
        }
      },
      "source": [
        "B = np.array([3,2,0,1]).reshape(2,2)\n",
        "B"
      ],
      "execution_count": 0,
      "outputs": [
        {
          "output_type": "execute_result",
          "data": {
            "text/plain": [
              "array([[3, 2],\n",
              "       [0, 1]])"
            ]
          },
          "metadata": {
            "tags": []
          },
          "execution_count": 78
        }
      ]
    },
    {
      "cell_type": "code",
      "metadata": {
        "id": "ns-v28BmuHJr",
        "colab_type": "code",
        "outputId": "cec5d566-4028-4a09-bec8-37306016d409",
        "colab": {
          "base_uri": "https://localhost:8080/",
          "height": 55
        }
      },
      "source": [
        "A.dot(B)"
      ],
      "execution_count": 0,
      "outputs": [
        {
          "output_type": "execute_result",
          "data": {
            "text/plain": [
              "array([[0, 1],\n",
              "       [6, 7]])"
            ]
          },
          "metadata": {
            "tags": []
          },
          "execution_count": 79
        }
      ]
    },
    {
      "cell_type": "code",
      "metadata": {
        "id": "l753_pJZuPBI",
        "colab_type": "code",
        "outputId": "d680a7d2-a37c-4f1c-a9c8-6144e48155ae",
        "colab": {
          "base_uri": "https://localhost:8080/",
          "height": 55
        }
      },
      "source": [
        "np.dot(A,B)"
      ],
      "execution_count": 0,
      "outputs": [
        {
          "output_type": "execute_result",
          "data": {
            "text/plain": [
              "array([[0, 1],\n",
              "       [6, 7]])"
            ]
          },
          "metadata": {
            "tags": []
          },
          "execution_count": 80
        }
      ]
    },
    {
      "cell_type": "code",
      "metadata": {
        "id": "kFw4K-Yuu4xL",
        "colab_type": "code",
        "outputId": "241fa4a0-6eca-45b0-c2ca-42752f9bf8b9",
        "colab": {
          "base_uri": "https://localhost:8080/",
          "height": 55
        }
      },
      "source": [
        "np.transpose(A)"
      ],
      "execution_count": 0,
      "outputs": [
        {
          "output_type": "execute_result",
          "data": {
            "text/plain": [
              "array([[0, 2],\n",
              "       [1, 3]])"
            ]
          },
          "metadata": {
            "tags": []
          },
          "execution_count": 81
        }
      ]
    },
    {
      "cell_type": "code",
      "metadata": {
        "id": "uvyhgr5-u7aU",
        "colab_type": "code",
        "outputId": "db665e48-3a6d-4a3c-cd73-0ee50cfac3ef",
        "colab": {
          "base_uri": "https://localhost:8080/",
          "height": 55
        }
      },
      "source": [
        "A.transpose()"
      ],
      "execution_count": 0,
      "outputs": [
        {
          "output_type": "execute_result",
          "data": {
            "text/plain": [
              "array([[0, 2],\n",
              "       [1, 3]])"
            ]
          },
          "metadata": {
            "tags": []
          },
          "execution_count": 83
        }
      ]
    },
    {
      "cell_type": "code",
      "metadata": {
        "id": "pGaaGwApv1Ct",
        "colab_type": "code",
        "outputId": "33f508d5-f6e4-44c3-deda-b888c5be5ff1",
        "colab": {
          "base_uri": "https://localhost:8080/",
          "height": 36
        }
      },
      "source": [
        "a1[[1,3,4]]"
      ],
      "execution_count": 0,
      "outputs": [
        {
          "output_type": "execute_result",
          "data": {
            "text/plain": [
              "array([1, 3, 4])"
            ]
          },
          "metadata": {
            "tags": []
          },
          "execution_count": 84
        }
      ]
    },
    {
      "cell_type": "code",
      "metadata": {
        "id": "zZ-vgc1gv_7g",
        "colab_type": "code",
        "outputId": "32b44b70-1c41-440e-878b-8f40a8b19738",
        "colab": {
          "base_uri": "https://localhost:8080/",
          "height": 74
        }
      },
      "source": [
        "a2 = np.arange(10,100,10).reshape(3,3)\n",
        "a2"
      ],
      "execution_count": 0,
      "outputs": [
        {
          "output_type": "execute_result",
          "data": {
            "text/plain": [
              "array([[10, 20, 30],\n",
              "       [40, 50, 60],\n",
              "       [70, 80, 90]])"
            ]
          },
          "metadata": {
            "tags": []
          },
          "execution_count": 85
        }
      ]
    },
    {
      "cell_type": "code",
      "metadata": {
        "id": "riyMiWyIwKzJ",
        "colab_type": "code",
        "outputId": "49d75278-c718-472f-a184-2c4998908a0e",
        "colab": {
          "base_uri": "https://localhost:8080/",
          "height": 36
        }
      },
      "source": [
        "a2[0,2]"
      ],
      "execution_count": 0,
      "outputs": [
        {
          "output_type": "execute_result",
          "data": {
            "text/plain": [
              "30"
            ]
          },
          "metadata": {
            "tags": []
          },
          "execution_count": 86
        }
      ]
    },
    {
      "cell_type": "code",
      "metadata": {
        "id": "DFjZwkjsxni7",
        "colab_type": "code",
        "outputId": "866ccade-e28c-4693-e1f2-f7466aa4565c",
        "colab": {
          "base_uri": "https://localhost:8080/",
          "height": 74
        }
      },
      "source": [
        "a2[2,2] = 95\n",
        "a2"
      ],
      "execution_count": 0,
      "outputs": [
        {
          "output_type": "execute_result",
          "data": {
            "text/plain": [
              "array([[10, 20, 30],\n",
              "       [40, 50, 60],\n",
              "       [70, 80, 95]])"
            ]
          },
          "metadata": {
            "tags": []
          },
          "execution_count": 87
        }
      ]
    },
    {
      "cell_type": "code",
      "metadata": {
        "id": "k3FtMmPmxqfI",
        "colab_type": "code",
        "outputId": "12f4c9c9-d382-41ba-ee7f-692536ee3ef4",
        "colab": {
          "base_uri": "https://localhost:8080/",
          "height": 36
        }
      },
      "source": [
        "a2[1]"
      ],
      "execution_count": 0,
      "outputs": [
        {
          "output_type": "execute_result",
          "data": {
            "text/plain": [
              "array([40, 50, 60])"
            ]
          },
          "metadata": {
            "tags": []
          },
          "execution_count": 88
        }
      ]
    },
    {
      "cell_type": "code",
      "metadata": {
        "id": "Lp7UH2_xxsfT",
        "colab_type": "code",
        "outputId": "3eac9586-84f9-4436-b83b-c40b6f316afe",
        "colab": {
          "base_uri": "https://localhost:8080/",
          "height": 74
        }
      },
      "source": [
        "a2[1] = np.array([45,55,65])\n",
        "a2"
      ],
      "execution_count": 0,
      "outputs": [
        {
          "output_type": "execute_result",
          "data": {
            "text/plain": [
              "array([[10, 20, 30],\n",
              "       [45, 55, 65],\n",
              "       [70, 80, 95]])"
            ]
          },
          "metadata": {
            "tags": []
          },
          "execution_count": 91
        }
      ]
    },
    {
      "cell_type": "code",
      "metadata": {
        "id": "RvCn64Phx0Wp",
        "colab_type": "code",
        "outputId": "517c7667-6034-40e6-f6d1-a2aecbb84a07",
        "colab": {
          "base_uri": "https://localhost:8080/",
          "height": 74
        }
      },
      "source": [
        "a2[1] = [47, 57, 67]\n",
        "a2"
      ],
      "execution_count": 0,
      "outputs": [
        {
          "output_type": "execute_result",
          "data": {
            "text/plain": [
              "array([[10, 20, 30],\n",
              "       [47, 57, 67],\n",
              "       [70, 80, 95]])"
            ]
          },
          "metadata": {
            "tags": []
          },
          "execution_count": 92
        }
      ]
    },
    {
      "cell_type": "code",
      "metadata": {
        "id": "CKRZfxryyQ0u",
        "colab_type": "code",
        "outputId": "d47cf936-678c-4858-f198-64fa1a4f01cc",
        "colab": {
          "base_uri": "https://localhost:8080/",
          "height": 36
        }
      },
      "source": [
        "a2[[0,2], [0,1]]"
      ],
      "execution_count": 0,
      "outputs": [
        {
          "output_type": "execute_result",
          "data": {
            "text/plain": [
              "array([10, 80])"
            ]
          },
          "metadata": {
            "tags": []
          },
          "execution_count": 93
        }
      ]
    },
    {
      "cell_type": "code",
      "metadata": {
        "id": "7ZVTaZ3eybUN",
        "colab_type": "code",
        "outputId": "c585713e-eeb8-43bb-da9f-ef3e877ba4f7",
        "colab": {
          "base_uri": "https://localhost:8080/",
          "height": 36
        }
      },
      "source": [
        "a = np.array([1,2,3,4,5,6])\n",
        "a[a>3]"
      ],
      "execution_count": 0,
      "outputs": [
        {
          "output_type": "execute_result",
          "data": {
            "text/plain": [
              "array([4, 5, 6])"
            ]
          },
          "metadata": {
            "tags": []
          },
          "execution_count": 94
        }
      ]
    },
    {
      "cell_type": "code",
      "metadata": {
        "id": "ZfiGtS_1yhr-",
        "colab_type": "code",
        "outputId": "66d1b5e5-84d8-4ec9-f65e-d6a4846c5598",
        "colab": {
          "base_uri": "https://localhost:8080/",
          "height": 36
        }
      },
      "source": [
        "a[(a%2)==0]"
      ],
      "execution_count": 0,
      "outputs": [
        {
          "output_type": "execute_result",
          "data": {
            "text/plain": [
              "array([2, 4, 6])"
            ]
          },
          "metadata": {
            "tags": []
          },
          "execution_count": 95
        }
      ]
    },
    {
      "cell_type": "code",
      "metadata": {
        "id": "4L76ExBQ1kJV",
        "colab_type": "code",
        "outputId": "b990ee78-b9a5-42f2-8285-b06e95705956",
        "colab": {
          "base_uri": "https://localhost:8080/",
          "height": 36
        }
      },
      "source": [
        "b1 = np.array([0,10,20,30,40,50])\n",
        "b1[1:4]"
      ],
      "execution_count": 0,
      "outputs": [
        {
          "output_type": "execute_result",
          "data": {
            "text/plain": [
              "array([10, 20, 30])"
            ]
          },
          "metadata": {
            "tags": []
          },
          "execution_count": 96
        }
      ]
    },
    {
      "cell_type": "code",
      "metadata": {
        "id": "PUbyf_WJ3OPc",
        "colab_type": "code",
        "outputId": "f4f51a39-b379-4943-b315-c517fc83d6b4",
        "colab": {
          "base_uri": "https://localhost:8080/",
          "height": 36
        }
      },
      "source": [
        "b1[1:]"
      ],
      "execution_count": 0,
      "outputs": [
        {
          "output_type": "execute_result",
          "data": {
            "text/plain": [
              "array([10, 20, 30, 40, 50])"
            ]
          },
          "metadata": {
            "tags": []
          },
          "execution_count": 101
        }
      ]
    },
    {
      "cell_type": "code",
      "metadata": {
        "id": "fv7-QF5r1q8I",
        "colab_type": "code",
        "outputId": "95af1c39-cc45-45ce-84ca-b4a49c7668a2",
        "colab": {
          "base_uri": "https://localhost:8080/",
          "height": 74
        }
      },
      "source": [
        "b2 = np.arange(10, 100, 10).reshape(3,3)\n",
        "b2"
      ],
      "execution_count": 0,
      "outputs": [
        {
          "output_type": "execute_result",
          "data": {
            "text/plain": [
              "array([[10, 20, 30],\n",
              "       [40, 50, 60],\n",
              "       [70, 80, 90]])"
            ]
          },
          "metadata": {
            "tags": []
          },
          "execution_count": 97
        }
      ]
    },
    {
      "cell_type": "code",
      "metadata": {
        "id": "S-BsvMHC2FoK",
        "colab_type": "code",
        "outputId": "80c6f17b-a344-42b4-dd00-cb1501b1b906",
        "colab": {
          "base_uri": "https://localhost:8080/",
          "height": 55
        }
      },
      "source": [
        "b2[1:3, 1:3]"
      ],
      "execution_count": 0,
      "outputs": [
        {
          "output_type": "execute_result",
          "data": {
            "text/plain": [
              "array([[50, 60],\n",
              "       [80, 90]])"
            ]
          },
          "metadata": {
            "tags": []
          },
          "execution_count": 98
        }
      ]
    },
    {
      "cell_type": "code",
      "metadata": {
        "id": "OsVk7wC73DXT",
        "colab_type": "code",
        "outputId": "b3df7a6e-d9ba-46a9-c811-3ca6696597b4",
        "colab": {
          "base_uri": "https://localhost:8080/",
          "height": 74
        }
      },
      "source": [
        "b2[:3, 1:]"
      ],
      "execution_count": 0,
      "outputs": [
        {
          "output_type": "execute_result",
          "data": {
            "text/plain": [
              "array([[20, 30],\n",
              "       [50, 60],\n",
              "       [80, 90]])"
            ]
          },
          "metadata": {
            "tags": []
          },
          "execution_count": 99
        }
      ]
    },
    {
      "cell_type": "code",
      "metadata": {
        "id": "LrZTUe1v3Hay",
        "colab_type": "code",
        "outputId": "2f2173c0-9dd0-4098-b283-4b34d11a2925",
        "colab": {
          "base_uri": "https://localhost:8080/",
          "height": 36
        }
      },
      "source": [
        "b2[1][0:2]"
      ],
      "execution_count": 0,
      "outputs": [
        {
          "output_type": "execute_result",
          "data": {
            "text/plain": [
              "array([40, 50])"
            ]
          },
          "metadata": {
            "tags": []
          },
          "execution_count": 100
        }
      ]
    },
    {
      "cell_type": "code",
      "metadata": {
        "id": "z0-wwbAY3JiF",
        "colab_type": "code",
        "outputId": "5923e75e-300f-4721-d663-37813b8d8e59",
        "colab": {
          "base_uri": "https://localhost:8080/",
          "height": 1000
        }
      },
      "source": [
        "import matplotlib.pyplot as plt\n",
        "\n",
        "t = []\n",
        "\n",
        "p2 = []\n",
        "p3 = []\n",
        "\n",
        "for i in range(0, 50, 2):\n",
        "  t.append(i/10)\n",
        "  p2.append((i/10)**2)\n",
        "  p3.append((i/10)**3)\n",
        "  plt.plot(t, t, 'r--', t, p2, 'bs', t, p3, 'g^')\n",
        "  plt.show()"
      ],
      "execution_count": 0,
      "outputs": [
        {
          "output_type": "display_data",
          "data": {
            "image/png": "[encoded data removed]",
            "text/plain": [
              "<Figure size 432x288 with 1 Axes>"
            ]
          },
          "metadata": {
            "tags": []
          }
        },
        {
          "output_type": "display_data",
          "data": {
            "image/png": "[encoded data removed]",
            "text/plain": [
              "<Figure size 432x288 with 1 Axes>"
            ]
          },
          "metadata": {
            "tags": []
          }
        },
        {
          "output_type": "display_data",
          "data": {
            "image/png": "[encoded data removed]",
            "text/plain": [
              "<Figure size 432x288 with 1 Axes>"
            ]
          },
          "metadata": {
            "tags": []
          }
        },
        {
          "output_type": "display_data",
          "data": {
            "image/png": "[encoded data removed]",
            "text/plain": [
              "<Figure size 432x288 with 1 Axes>"
            ]
          },
          "metadata": {
            "tags": []
          }
        },
        {
          "output_type": "display_data",
          "data": {
            "image/png": "[encoded data removed]",
            "text/plain": [
              "<Figure size 432x288 with 1 Axes>"
            ]
          },
          "metadata": {
            "tags": []
          }
        },
        {
          "output_type": "display_data",
          "data": {
            "image/png": "[encoded data removed]",
            "text/plain": [
              "<Figure size 432x288 with 1 Axes>"
            ]
          },
          "metadata": {
            "tags": []
          }
        },
        {
          "output_type": "display_data",
          "data": {
            "image/png": "[encoded data removed]",
            "text/plain": [
              "<Figure size 432x288 with 1 Axes>"
            ]
          },
          "metadata": {
            "tags": []
          }
        },
        {
          "output_type": "display_data",
          "data": {
            "image/png": "[encoded data removed]",
            "text/plain": [
              "<Figure size 432x288 with 1 Axes>"
            ]
          },
          "metadata": {
            "tags": []
          }
        },
        {
          "output_type": "display_data",
          "data": {
            "image/png": "[encoded data removed]",
            "text/plain": [
              "<Figure size 432x288 with 1 Axes>"
            ]
          },
          "metadata": {
            "tags": []
          }
        },
        {
          "output_type": "display_data",
          "data": {
            "image/png": "[encoded data removed]",
            "text/plain": [
              "<Figure size 432x288 with 1 Axes>"
            ]
          },
          "metadata": {
            "tags": []
          }
        },
        {
          "output_type": "display_data",
          "data": {
            "image/png": "[encoded data removed]",
            "text/plain": [
              "<Figure size 432x288 with 1 Axes>"
            ]
          },
          "metadata": {
            "tags": []
          }
        },
        {
          "output_type": "display_data",
          "data": {
            "image/png": "[encoded data removed]",
            "text/plain": [
              "<Figure size 432x288 with 1 Axes>"
            ]
          },
          "metadata": {
            "tags": []
          }
        },
        {
          "output_type": "display_data",
          "data": {
            "image/png": "[encoded data removed]",
            "text/plain": [
              "<Figure size 432x288 with 1 Axes>"
            ]
          },
          "metadata": {
            "tags": []
          }
        },
        {
          "output_type": "display_data",
          "data": {
            "image/png": "[encoded data removed]",
            "text/plain": [
              "<Figure size 432x288 with 1 Axes>"
            ]
          },
          "metadata": {
            "tags": []
          }
        },
        {
          "output_type": "display_data",
          "data": {
            "image/png": "[encoded data removed]",
            "text/plain": [
              "<Figure size 432x288 with 1 Axes>"
            ]
          },
          "metadata": {
            "tags": []
          }
        },
        {
          "output_type": "display_data",
          "data": {
            "image/png": "[encoded data removed]",
            "text/plain": [
              "<Figure size 432x288 with 1 Axes>"
            ]
          },
          "metadata": {
            "tags": []
          }
        },
        {
          "output_type": "display_data",
          "data": {
            "image/png": "[encoded data removed]",
            "text/plain": [
              "<Figure size 432x288 with 1 Axes>"
            ]
          },
          "metadata": {
            "tags": []
          }
        },
        {
          "output_type": "display_data",
          "data": {
            "image/png": "[encoded data removed]",
            "text/plain": [
              "<Figure size 432x288 with 1 Axes>"
            ]
          },
          "metadata": {
            "tags": []
          }
        },
        {
          "output_type": "display_data",
          "data": {
            "image/png": "[encoded data removed]",
            "text/plain": [
              "<Figure size 432x288 with 1 Axes>"
            ]
          },
          "metadata": {
            "tags": []
          }
        },
        {
          "output_type": "display_data",
          "data": {
            "image/png": "[encoded data removed]",
            "text/plain": [
              "<Figure size 432x288 with 1 Axes>"
            ]
          },
          "metadata": {
            "tags": []
          }
        },
        {
          "output_type": "display_data",
          "data": {
            "image/png": "[encoded data removed]",
            "text/plain": [
              "<Figure size 432x288 with 1 Axes>"
            ]
          },
          "metadata": {
            "tags": []
          }
        },
        {
          "output_type": "display_data",
          "data": {
            "image/png": "[encoded data removed]",
            "text/plain": [
              "<Figure size 432x288 with 1 Axes>"
            ]
          },
          "metadata": {
            "tags": []
          }
        },
        {
          "output_type": "display_data",
          "data": {
            "image/png": "[encoded data removed]",
            "text/plain": [
              "<Figure size 432x288 with 1 Axes>"
            ]
          },
          "metadata": {
            "tags": []
          }
        },
        {
          "output_type": "display_data",
          "data": {
            "image/png": "[encoded data removed]",
            "text/plain": [
              "<Figure size 432x288 with 1 Axes>"
            ]
          },
          "metadata": {
            "tags": []
          }
        },
        {
          "output_type": "display_data",
          "data": {
            "image/png": "[encoded data removed]",
            "text/plain": [
              "<Figure size 432x288 with 1 Axes>"
            ]
          },
          "metadata": {
            "tags": []
          }
        }
      ]
    },
    {
      "cell_type": "code",
      "metadata": {
        "id": "EzDDLOpp8-hv",
        "colab_type": "code",
        "outputId": "aa4dbe6c-eb1f-495a-fd95-82c7ed146e0c",
        "colab": {
          "base_uri": "https://localhost:8080/",
          "height": 36
        }
      },
      "source": [
        "b=20\n",
        "\n",
        "def test():\n",
        "  global b\n",
        "  b = b + 30\n",
        "  return b\n",
        "k = test()\n",
        "\n",
        "print(k)"
      ],
      "execution_count": 0,
      "outputs": [
        {
          "output_type": "stream",
          "text": [
            "50\n"
          ],
          "name": "stdout"
        }
      ]
    },
    {
      "cell_type": "code",
      "metadata": {
        "id": "EbaDGsug9jhE",
        "colab_type": "code",
        "outputId": "2745ec9a-5c88-40df-c60b-a44a54118a32",
        "colab": {
          "base_uri": "https://localhost:8080/",
          "height": 265
        }
      },
      "source": [
        "t = np.arange(0,5,0.2)\n",
        "p2 = t ** 2\n",
        "p3 = t ** 3\n",
        "plt.plot(t, t, 'r--', t, p2, 'bs', t, p3, 'g^') \n",
        "plt.show()"
      ],
      "execution_count": 0,
      "outputs": [
        {
          "output_type": "display_data",
          "data": {
            "image/png": "[encoded data removed]",
            "text/plain": [
              "<Figure size 432x288 with 1 Axes>"
            ]
          },
          "metadata": {
            "tags": []
          }
        }
      ]
    },
    {
      "cell_type": "code",
      "metadata": {
        "id": "LmqSzC95AfRH",
        "colab_type": "code",
        "outputId": "a7f2d1b4-b686-451b-8ed9-a9c1a1ca0575",
        "colab": {
          "base_uri": "https://localhost:8080/",
          "height": 74
        }
      },
      "source": [
        "print(np.pi)\n",
        "print(np.sin(0))\n",
        "print(np.cos(np.pi))"
      ],
      "execution_count": 0,
      "outputs": [
        {
          "output_type": "stream",
          "text": [
            "3.141592653589793\n",
            "0.0\n",
            "-1.0\n"
          ],
          "name": "stdout"
        }
      ]
    },
    {
      "cell_type": "code",
      "metadata": {
        "id": "YUsYxlGIBCHi",
        "colab_type": "code",
        "outputId": "3bdbc401-986f-4c6c-e1f8-4ab77e961d9d",
        "colab": {
          "base_uri": "https://localhost:8080/",
          "height": 36
        }
      },
      "source": [
        "print(np.random.choice(6,10))"
      ],
      "execution_count": 0,
      "outputs": [
        {
          "output_type": "stream",
          "text": [
            "[0 2 3 5 1 1 5 0 1 0]\n"
          ],
          "name": "stdout"
        }
      ]
    },
    {
      "cell_type": "code",
      "metadata": {
        "id": "pnNBC0rBBFc7",
        "colab_type": "code",
        "outputId": "6cab0ce0-bf08-42f8-df90-23b427707fab",
        "colab": {
          "base_uri": "https://localhost:8080/",
          "height": 36
        }
      },
      "source": [
        "print(np.random.rand(5))"
      ],
      "execution_count": 0,
      "outputs": [
        {
          "output_type": "stream",
          "text": [
            "[0.82282371 0.65582039 0.02728811 0.13330339 0.48346694]\n"
          ],
          "name": "stdout"
        }
      ]
    },
    {
      "cell_type": "code",
      "metadata": {
        "id": "VdBvxdKMC7qk",
        "colab_type": "code",
        "outputId": "ee230a76-bffd-4a47-a715-9e24e2cb1135",
        "colab": {
          "base_uri": "https://localhost:8080/",
          "height": 187
        }
      },
      "source": [
        "lotto = np.random.choice(45, 6, replace=False) + 1\n",
        "user_lotto = []\n",
        "num = 0\n",
        "for i in range(6):\n",
        "  try:\n",
        "    user_lotto.append(int(input(str(i+1) + \"번째 로또 번호 입력: \")))\n",
        "  except:\n",
        "    user_lotto.append(int(input(str(i+1) + \"번째 로또 번호 입력: \")))\n",
        "\n",
        "for i in range(6):\n",
        "  for j in range(6):\n",
        "    if user_lotto[j] == lotto[i]:\n",
        "      num+=1\n",
        "\n",
        "print(\"맞은 개수는 \" + str(num) + \"개 입니다.\")\n",
        "print(sorted(list(lotto)))\n",
        "print(sorted(user_lotto))\n",
        "                  "
      ],
      "execution_count": 0,
      "outputs": [
        {
          "output_type": "stream",
          "text": [
            "1번째 로또 번호 입력: 3\n",
            "2번째 로또 번호 입력: 15\n",
            "3번째 로또 번호 입력: 16\n",
            "4번째 로또 번호 입력: 21\n",
            "5번째 로또 번호 입력: 34\n",
            "6번째 로또 번호 입력: 43\n",
            "맞은 개수는 2개 입니다.\n",
            "[3, 8, 22, 33, 34, 41]\n",
            "[3, 15, 16, 21, 34, 43]\n"
          ],
          "name": "stdout"
        }
      ]
    },
    {
      "cell_type": "code",
      "metadata": {
        "id": "55A7PYlleyR8",
        "colab_type": "code",
        "outputId": "8755ad62-258f-425e-d595-9a6f3e5f2530",
        "colab": {
          "base_uri": "https://localhost:8080/",
          "height": 265
        }
      },
      "source": [
        "dice = np.random.choice(6, 1000000, p=[0.1, 0.2, 0.3, 0.2, 0.1, 0.1])\n",
        "plt.hist(dice, bins=6)\n",
        "plt.show()"
      ],
      "execution_count": 0,
      "outputs": [
        {
          "output_type": "display_data",
          "data": {
            "image/png": "[encoded data removed]",
            "text/plain": [
              "<Figure size 432x288 with 1 Axes>"
            ]
          },
          "metadata": {
            "tags": []
          }
        }
      ]
    },
    {
      "cell_type": "code",
      "metadata": {
        "id": "-oIVwEn1jpT_",
        "colab_type": "code",
        "outputId": "5581b240-48a7-4665-d93c-0199e408554e",
        "colab": {
          "base_uri": "https://localhost:8080/",
          "height": 55
        }
      },
      "source": [
        "a = np.array([1,2,3,4])\n",
        "print(a[1], a[-1])\n",
        "print(a[1:])"
      ],
      "execution_count": 0,
      "outputs": [
        {
          "output_type": "stream",
          "text": [
            "2 4\n",
            "[2 3 4]\n"
          ],
          "name": "stdout"
        }
      ]
    },
    {
      "cell_type": "code",
      "metadata": {
        "id": "MrPk7WNZklvx",
        "colab_type": "code",
        "outputId": "e11af1fd-4a6c-40ce-d747-f26c2860a134",
        "colab": {
          "base_uri": "https://localhost:8080/",
          "height": 36
        }
      },
      "source": [
        "print(a[:-1])"
      ],
      "execution_count": 0,
      "outputs": [
        {
          "output_type": "stream",
          "text": [
            "[1 2 3]\n"
          ],
          "name": "stdout"
        }
      ]
    },
    {
      "cell_type": "code",
      "metadata": {
        "id": "guC7yQQzlK3C",
        "colab_type": "code",
        "outputId": "4ad1ac09-7ec2-459a-cf05-aa67c0346a3c",
        "colab": {
          "base_uri": "https://localhost:8080/",
          "height": 265
        }
      },
      "source": [
        "a = np.arange(-np.pi, np.pi, np.pi/100)\n",
        "plt.plot(a, np.sin(a))\n",
        "plt.show()"
      ],
      "execution_count": 0,
      "outputs": [
        {
          "output_type": "display_data",
          "data": {
            "image/png": "[encoded data removed]",
            "text/plain": [
              "<Figure size 432x288 with 1 Axes>"
            ]
          },
          "metadata": {
            "tags": []
          }
        }
      ]
    },
    {
      "cell_type": "code",
      "metadata": {
        "id": "oii6HbJ3mBZm",
        "colab_type": "code",
        "outputId": "3631ee3a-9fce-4f06-c3ae-d85691d3016d",
        "colab": {
          "base_uri": "https://localhost:8080/",
          "height": 265
        }
      },
      "source": [
        "plt.plot(a, np.sin(a))\n",
        "plt.plot(a, np.cos(a))\n",
        "plt.plot(a+np.pi/2, np.sin(a))\n",
        "plt.show()"
      ],
      "execution_count": 0,
      "outputs": [
        {
          "output_type": "display_data",
          "data": {
            "image/png": "[encoded data removed]",
            "text/plain": [
              "<Figure size 432x288 with 1 Axes>"
            ]
          },
          "metadata": {
            "tags": []
          }
        }
      ]
    },
    {
      "cell_type": "code",
      "metadata": {
        "id": "0JGx7j_NmqNb",
        "colab_type": "code",
        "outputId": "16748e89-472c-4ba7-f67c-12790108ee00",
        "colab": {
          "base_uri": "https://localhost:8080/",
          "height": 36
        }
      },
      "source": [
        "a = np.arange(-5, 5)\n",
        "b = np.arange(0, 10)\n",
        "print(a<0)"
      ],
      "execution_count": 189,
      "outputs": [
        {
          "output_type": "stream",
          "text": [
            "[ True  True  True  True  True False False False False False]\n"
          ],
          "name": "stdout"
        }
      ]
    },
    {
      "cell_type": "code",
      "metadata": {
        "id": "18iIElwCnlMD",
        "colab_type": "code",
        "outputId": "4830ed27-235f-4fd5-a443-d2c249857c0a",
        "colab": {
          "base_uri": "https://localhost:8080/",
          "height": 36
        }
      },
      "source": [
        "mask1 = abs(a) > 3\n",
        "print(a[mask1])"
      ],
      "execution_count": 0,
      "outputs": [
        {
          "output_type": "stream",
          "text": [
            "[-5 -4  4]\n"
          ],
          "name": "stdout"
        }
      ]
    },
    {
      "cell_type": "code",
      "metadata": {
        "id": "RF5QySvjoXSn",
        "colab_type": "code",
        "colab": {
          "base_uri": "https://localhost:8080/",
          "height": 55
        },
        "outputId": "483f6ad0-b95f-471d-adbc-991212558fb4"
      },
      "source": [
        "mask2 = abs(a) % 2 == 0\n",
        "print(a[mask1+mask2])\n",
        "print(a[mask1*mask2])"
      ],
      "execution_count": 177,
      "outputs": [
        {
          "output_type": "stream",
          "text": [
            "[-5 -4 -2  0  2  4]\n",
            "[-4  4]\n"
          ],
          "name": "stdout"
        }
      ]
    },
    {
      "cell_type": "code",
      "metadata": {
        "id": "zW9bpqqzrfk9",
        "colab_type": "code",
        "colab": {
          "base_uri": "https://localhost:8080/",
          "height": 548
        },
        "outputId": "d4e8ebdf-1b38-426d-88eb-c3d97a855d31"
      },
      "source": [
        "import numpy as np\n",
        "import matplotlib.pyplot as plt\n",
        "\n",
        " \n",
        "A_x_list = [0,2,4,1,1,4]\n",
        "A_y_list = [4,1,5,5,2,6]\n",
        "A_x = np.array(A_x_list)\n",
        "A_y = np.array(A_y_list)\n",
        " \n",
        "B_x_list = [7,7,5,7,10,9]\n",
        "B_y_list = [4,0,2,2,3,3]\n",
        "B_x = np.array(B_x_list)\n",
        "B_y = np.array(B_y_list)\n",
        " \n",
        "finding_point = [5,4]\n",
        " \n",
        "plt.figure()\n",
        "plt.scatter(A_x,A_y, c='r')\n",
        "plt.scatter(B_x,B_y, c='b')\n",
        "plt.scatter(finding_point[0],finding_point[1], marker='*')\n",
        "plt.show()\n",
        "\n",
        "# L리스트에서 c번째 작은 값 찾는 함수\n",
        "def count_min_value(L,c):\n",
        "    temp = L.copy()\n",
        "    temp.sort()\n",
        "    item = temp[c-1]\n",
        "    return item\n",
        " \n",
        "# 입력값이 A그룹인지 B그룹인지 찾는 함수::KNN Algorithm 적용\n",
        "def finding_AorB(k,x,y):\n",
        "    numA = 0\n",
        "    numB = 0\n",
        "    A_xy = []\n",
        "    B_xy = []\n",
        "    # x,y 좌표가 따로 있는 것을 하나의 리스트로 통합\n",
        "    for i in range(len(A_x_list)):\n",
        "        A_xy.append([A_x_list[i],A_y_list[i]])\n",
        "\n",
        "    for i in range(len(B_x_list)):\n",
        "        B_xy.append([B_x_list[i],B_y_list[i]])\n",
        "\n",
        "    A_distance = []\n",
        "    B_distance = []\n",
        "    \n",
        "    # x,y 좌표에 대해 입력값과의 거리 산출\n",
        "\n",
        "    for each in A_xy:\n",
        "        dis = ((each[0] - x)**2 + (each[1] - y)**2)**(1/2)\n",
        "        A_distance.append(dis)\n",
        "    for each in B_xy:\n",
        "        dis = ((each[0] - x)**2 + (each[1] - y)**2)**(1/2)\n",
        "        B_distance.append(dis)\n",
        "\n",
        "    A_result = []\n",
        "    B_result = []\n",
        "    \n",
        "    A_min_count = 1\n",
        "    B_min_count = 1\n",
        "\n",
        "    while(numA + numB < k):\n",
        "        min_A = 0\n",
        "        min_B = 0\n",
        " \n",
        "        min_A = count_min_value(A_distance,A_min_count)\n",
        "        min_B = count_min_value(B_distance,B_min_count)\n",
        " \n",
        "        if min_A < min_B:\n",
        "            numA += 1\n",
        "            A_min_count += 1\n",
        "            A_result.append(A_xy[A_distance.index(min_A)])\n",
        "            A_distance[A_distance.index(min_A)] = -1\n",
        "           \n",
        "        elif min_A > min_B:\n",
        "            numB += 1\n",
        "            B_min_count += 1\n",
        "            B_result.append(B_xy[B_distance.index(min_B)])\n",
        "            B_distance[B_distance.index(min_B)] = -1\n",
        "        elif min_A == min_B:\n",
        "            numA += 1\n",
        "            numB += 1\n",
        "            A_min_count += 1\n",
        "            B_min_count += 1\n",
        "            A_result.append(A_xy[A_distance.index(min_A)])\n",
        "            A_distance[A_distance.index(min_A)] = -1\n",
        "            B_result.append(B_xy[B_distance.index(min_B)])\n",
        "            B_distance[B_distance.index(min_B)] = -1\n",
        "    if numA > numB:\n",
        "        print(\"RESULT: The point is A\")\n",
        "    elif numA < numB:\n",
        "        print(\"RESULT, The point is B\")\n",
        "    elif numA == numB:\n",
        "        print(\"I DON'T KNOW\")\n",
        "    print(\"A point is\",A_result,\"\\nB point is\",B_result,\"\\n\")\n",
        "\n",
        "k=1\n",
        "print('k:',k)\n",
        "finding_AorB(k,finding_point[0], finding_point[1])\n",
        "\n",
        "k=3\n",
        "print('k:',k)\n",
        "finding_AorB(k,finding_point[0], finding_point[1])\n",
        "\n",
        "k=4\n",
        "print('k:',k)\n",
        "finding_AorB(k,finding_point[0], finding_point[1])"
      ],
      "execution_count": 2,
      "outputs": [
        {
          "output_type": "display_data",
          "data": {
            "image/png": "[encoded data removed]",
            "text/plain": [
              "<Figure size 432x288 with 1 Axes>"
            ]
          },
          "metadata": {
            "tags": []
          }
        },
        {
          "output_type": "stream",
          "text": [
            "k: 1\n",
            "RESULT: The point is A\n",
            "A point is [[4, 5]] \n",
            "B point is [] \n",
            "\n",
            "k: 3\n",
            "RESULT, The point is B\n",
            "A point is [[4, 5]] \n",
            "B point is [[7, 4], [5, 2]] \n",
            "\n",
            "k: 4\n",
            "I DON'T KNOW\n",
            "A point is [[4, 5], [4, 6]] \n",
            "B point is [[7, 4], [5, 2]] \n",
            "\n"
          ],
          "name": "stdout"
        }
      ]
    }
  ]
}