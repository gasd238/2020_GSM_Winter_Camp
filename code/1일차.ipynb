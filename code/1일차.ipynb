{
  "nbformat": 4,
  "nbformat_minor": 0,
  "metadata": {
    "colab": {
      "name": "1일차.ipynb",
      "provenance": [],
      "collapsed_sections": [],
      "authorship_tag": "ABX9TyMgs2rZxVEf5jfIbCqcecHv"
    },
    "kernelspec": {
      "name": "python3",
      "display_name": "Python 3"
    }
  },
  "cells": [
    {
      "cell_type": "code",
      "metadata": {
        "id": "DuTGilVhcEvA",
        "colab_type": "code",
        "outputId": "0be80c2e-ba78-4885-d5a1-75e3ea9122ed",
        "colab": {
          "base_uri": "https://localhost:8080/",
          "height": 55
        }
      },
      "source": [
        "a = int(input('임의의 정수 입력: '))\n",
        "print(a+20)"
      ],
      "execution_count": 0,
      "outputs": [
        {
          "output_type": "stream",
          "text": [
            "임의의 정수 입력: 64656\n",
            "64676\n"
          ],
          "name": "stdout"
        }
      ]
    },
    {
      "cell_type": "code",
      "metadata": {
        "id": "o3qAEVUYhUp1",
        "colab_type": "code",
        "outputId": "98954e7d-3d6a-4d68-b03b-ee1086f34a22",
        "colab": {
          "base_uri": "https://localhost:8080/",
          "height": 36
        }
      },
      "source": [
        "a = 10\n",
        "b = 20\n",
        "\n",
        "print('result:%s' % (a < b)) # > , <, >=, <=, ==, !="
      ],
      "execution_count": 0,
      "outputs": [
        {
          "output_type": "stream",
          "text": [
            "result:True\n"
          ],
          "name": "stdout"
        }
      ]
    },
    {
      "cell_type": "code",
      "metadata": {
        "id": "HmrrN0Idmmgn",
        "colab_type": "code",
        "outputId": "4aa34792-e36f-495c-b724-041ecdf51f8c",
        "colab": {
          "base_uri": "https://localhost:8080/",
          "height": 55
        }
      },
      "source": [
        "a = int(input('임의의 정수: '))\n",
        "\n",
        "if a % 2 == 0:\n",
        "  print('짝수')\n",
        "else:\n",
        "  print('홀수')\n"
      ],
      "execution_count": 0,
      "outputs": [
        {
          "output_type": "stream",
          "text": [
            "임의의 정수: 15\n",
            "홀수\n"
          ],
          "name": "stdout"
        }
      ]
    },
    {
      "cell_type": "code",
      "metadata": {
        "id": "1Cz1_nY1poNf",
        "colab_type": "code",
        "outputId": "67d1e984-0317-4780-a16d-6d71773ec034",
        "colab": {
          "base_uri": "https://localhost:8080/",
          "height": 55
        }
      },
      "source": [
        "a = int(input('임의의 점수: '))\n",
        "\n",
        "if a >= 90:\n",
        "  print('A')\n",
        "elif a >= 80:\n",
        "  print('B')\n",
        "elif a >= 70:\n",
        "  print('C')\n",
        "elif a >= 60:\n",
        "  print('D')\n",
        "else:\n",
        "  print('E')"
      ],
      "execution_count": 0,
      "outputs": [
        {
          "output_type": "stream",
          "text": [
            "임의의 점수: 61\n",
            "D\n"
          ],
          "name": "stdout"
        }
      ]
    },
    {
      "cell_type": "code",
      "metadata": {
        "id": "s-bDtkwasFeJ",
        "colab_type": "code",
        "outputId": "e26131dc-ede8-4bf7-b2e9-5671723921ce",
        "colab": {
          "base_uri": "https://localhost:8080/",
          "height": 206
        }
      },
      "source": [
        "for i in range(10):\n",
        "  print('hello')"
      ],
      "execution_count": 0,
      "outputs": [
        {
          "output_type": "stream",
          "text": [
            "hello\n",
            "hello\n",
            "hello\n",
            "hello\n",
            "hello\n",
            "hello\n",
            "hello\n",
            "hello\n",
            "hello\n",
            "hello\n"
          ],
          "name": "stdout"
        }
      ]
    },
    {
      "cell_type": "code",
      "metadata": {
        "id": "qKTZD133s2Aq",
        "colab_type": "code",
        "outputId": "5135ee4f-bd8e-4570-eb5c-fa106f861afe",
        "colab": {
          "base_uri": "https://localhost:8080/",
          "height": 111
        }
      },
      "source": [
        "for i in range(0, 10, 2):\n",
        "  print(i)"
      ],
      "execution_count": 0,
      "outputs": [
        {
          "output_type": "stream",
          "text": [
            "0\n",
            "2\n",
            "4\n",
            "6\n",
            "8\n"
          ],
          "name": "stdout"
        }
      ]
    },
    {
      "cell_type": "code",
      "metadata": {
        "id": "2JZouBcJtG01",
        "colab_type": "code",
        "outputId": "ee4c19d6-3d5d-449c-8768-b42ff9438dad",
        "colab": {
          "base_uri": "https://localhost:8080/",
          "height": 111
        }
      },
      "source": [
        "for i in [10, 20, 30, 40, 50]:\n",
        "  print(i)"
      ],
      "execution_count": 0,
      "outputs": [
        {
          "output_type": "stream",
          "text": [
            "10\n",
            "20\n",
            "30\n",
            "40\n",
            "50\n"
          ],
          "name": "stdout"
        }
      ]
    },
    {
      "cell_type": "code",
      "metadata": {
        "id": "ewgnr6xgtary",
        "colab_type": "code",
        "outputId": "55d6c2eb-4af5-4052-9dfc-d15360dc8743",
        "colab": {
          "base_uri": "https://localhost:8080/",
          "height": 36
        }
      },
      "source": [
        "for i in ['apple', 'orange', 'grape', 'berry']:\n",
        "  print(i, end=' ')"
      ],
      "execution_count": 0,
      "outputs": [
        {
          "output_type": "stream",
          "text": [
            "apple orange grape berry "
          ],
          "name": "stdout"
        }
      ]
    },
    {
      "cell_type": "code",
      "metadata": {
        "id": "6GGTK2Frt9AQ",
        "colab_type": "code",
        "outputId": "5730a44e-76bd-4748-d8be-bf592e685f58",
        "colab": {
          "base_uri": "https://localhost:8080/",
          "height": 36
        }
      },
      "source": [
        "sum = 0\n",
        "for i in range(1, 11):\n",
        "  sum+=i\n",
        "print(sum)"
      ],
      "execution_count": 0,
      "outputs": [
        {
          "output_type": "stream",
          "text": [
            "55\n"
          ],
          "name": "stdout"
        }
      ]
    },
    {
      "cell_type": "code",
      "metadata": {
        "id": "PtU_GcaFvNl1",
        "colab_type": "code",
        "outputId": "6d35eb7a-81c8-428e-a51b-f74471714b53",
        "colab": {
          "base_uri": "https://localhost:8080/",
          "height": 36
        }
      },
      "source": [
        "i = 0\n",
        "\n",
        "while i<=10:\n",
        "  sum + i\n",
        "  i+=1\n",
        "\n",
        "print(sum) "
      ],
      "execution_count": 0,
      "outputs": [
        {
          "output_type": "stream",
          "text": [
            "55\n"
          ],
          "name": "stdout"
        }
      ]
    },
    {
      "cell_type": "code",
      "metadata": {
        "id": "okgRkOQ6w-Q8",
        "colab_type": "code",
        "outputId": "515a83df-553b-4d99-c87a-e57a06b85865",
        "colab": {
          "base_uri": "https://localhost:8080/",
          "height": 36
        }
      },
      "source": [
        "a = [ 10, 20, 30, 40, 50 ]\n",
        "\n",
        "for i in range(len(a)):\n",
        "  print(a[i], end=' ')"
      ],
      "execution_count": 0,
      "outputs": [
        {
          "output_type": "stream",
          "text": [
            "10 20 30 40 50 "
          ],
          "name": "stdout"
        }
      ]
    },
    {
      "cell_type": "code",
      "metadata": {
        "id": "6-UDd0NQ2eCP",
        "colab_type": "code",
        "colab": {}
      },
      "source": [
        "a=[]\n",
        "a.appned(30)\n",
        "a.append(70)\n",
        "print(a)"
      ],
      "execution_count": 0,
      "outputs": []
    },
    {
      "cell_type": "code",
      "metadata": {
        "id": "cO18n_W72h5Q",
        "colab_type": "code",
        "outputId": "246bcfdc-d955-4574-87b4-974c441c793c",
        "colab": {
          "base_uri": "https://localhost:8080/",
          "height": 130
        }
      },
      "source": [
        "a = []\n",
        "for i in range(5):\n",
        "  a.append(int(input('정수 입력: ')))\n",
        "\n",
        "print(a)"
      ],
      "execution_count": 0,
      "outputs": [
        {
          "output_type": "stream",
          "text": [
            "정수 입력: 10\n",
            "정수 입력: 20\n",
            "정수 입력: 30\n",
            "정수 입력: 40\n",
            "정수 입력: 50\n",
            "[10, 20, 30, 40, 50]\n"
          ],
          "name": "stdout"
        }
      ]
    },
    {
      "cell_type": "code",
      "metadata": {
        "id": "IG7MMGea3cx_",
        "colab_type": "code",
        "outputId": "69b1e2b2-684f-4f3f-f682-93e9f5daa5e0",
        "colab": {
          "base_uri": "https://localhost:8080/",
          "height": 55
        }
      },
      "source": [
        "a = [[10, 20, 30], [40, 50, 60]]\n",
        "for i in range(2):\n",
        "  for j in range(3):\n",
        "    print(a[i][j], end=' ')\n",
        "  print()"
      ],
      "execution_count": 0,
      "outputs": [
        {
          "output_type": "stream",
          "text": [
            "10 20 30 \n",
            "40 50 60 \n"
          ],
          "name": "stdout"
        }
      ]
    },
    {
      "cell_type": "code",
      "metadata": {
        "id": "J4lK65Wa47_j",
        "colab_type": "code",
        "outputId": "5f6e1df1-dc57-4b15-d610-710672806797",
        "colab": {
          "base_uri": "https://localhost:8080/",
          "height": 55
        }
      },
      "source": [
        "a = [[10, 20, 30], [40, 50, 60]]\n",
        "for i in range(len(a)):\n",
        "  sum = 0\n",
        "  for j in range(len(a[i])):\n",
        "    sum+=a[i][j]\n",
        "    \n",
        "  a[i].append(sum)\n",
        "\n",
        "for i in range(len(a)):\n",
        "  for j in range(len(a[i])):\n",
        "    print(a[i][j], end=' ')\n",
        "  print()\n"
      ],
      "execution_count": 0,
      "outputs": [
        {
          "output_type": "stream",
          "text": [
            "10 20 30 60 \n",
            "40 50 60 150 \n"
          ],
          "name": "stdout"
        }
      ]
    }
  ]
}